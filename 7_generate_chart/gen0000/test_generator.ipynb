{
 "cells": [
  {
   "cell_type": "code",
   "execution_count": 25,
   "metadata": {},
   "outputs": [
    {
     "name": "stdout",
     "output_type": "stream",
     "text": [
      "/Users/nakagawaayato/compe/kaggle/mga/src/7_generate_chart/gen0000/main.py:14: UserWarning: \n",
      "The version_base parameter is not specified.\n",
      "Please specify a compatability version level, or None.\n",
      "Will assume defaults for version 1.1\n",
      "  @hydra.main(config_path='config', config_name='config')\n",
      "/Users/nakagawaayato/.local/share/virtualenvs/mga-RYrVM4UM/lib/python3.10/site-packages/hydra/_internal/hydra.py:119: UserWarning: Future Hydra versions will no longer change working directory at job runtime by default.\n",
      "See https://hydra.cc/docs/1.2/upgrades/1.1_to_1.2/changes_to_job_working_dir/ for more information.\n",
      "  ret = run_job(\n",
      "{'chart_type': 'scatter',\n",
      " 'dim_distribution': '2d',\n",
      " 'distribution': 'normal',\n",
      " 'n_data': 42,\n",
      " 'x': {'margin_bl': 0.39350938625762305,\n",
      "       'margin_tr': 0.40538514703105744,\n",
      "       'n_ticks': 13,\n",
      "       'num_type': 'float',\n",
      "       'tick_end': 480000.0,\n",
      "       'tick_interval': 40000.0,\n",
      "       'tick_start': 0,\n",
      "       'value_type': 'numerical'},\n",
      " 'y': {'margin_bl': 0.05733562665433021,\n",
      "       'margin_tr': 0.2539222228872075,\n",
      "       'n_ticks': 7,\n",
      "       'num_type': 'float',\n",
      "       'tick_end': 34000,\n",
      "       'tick_interval': 5000,\n",
      "       'tick_start': 4000,\n",
      "       'value_type': 'numerical'}}\n",
      "{'x': [0.0, 40000.0, 80000.0, 120000.0, 160000.0, 200000.0, 240000.0, 280000.0, 320000.0, 360000.0, 400000.0, 440000.0, 480000.0], 'y': [4000, 9000, 14000, 19000, 24000, 29000, 34000]}\n",
      "/Users/nakagawaayato/compe/kaggle/mga/src/7_generate_chart/gen0000/main.py:26: UserWarning: FixedFormatter should only be used together with FixedLocator\n",
      "  ax.set_xticklabels(tick_x)\n",
      "/Users/nakagawaayato/compe/kaggle/mga/src/7_generate_chart/gen0000/main.py:27: UserWarning: FixedFormatter should only be used together with FixedLocator\n",
      "  ax.set_yticklabels(tick_y)\n"
     ]
    }
   ],
   "source": [
    "!python main.py"
   ]
  },
  {
   "cell_type": "code",
   "execution_count": 6,
   "metadata": {},
   "outputs": [
    {
     "name": "stdout",
     "output_type": "stream",
     "text": [
      "\u001b[34m__pycache__\u001b[m\u001b[m/          \u001b[34mgenerator\u001b[m\u001b[m/            setting.py\n",
      "\u001b[34mconfig\u001b[m\u001b[m/               main.py               test_generator.ipynb\n",
      "gen_chart.ipynb       \u001b[34moutputs\u001b[m\u001b[m/\n"
     ]
    }
   ],
   "source": [
    "ls"
   ]
  },
  {
   "cell_type": "code",
   "execution_count": 26,
   "metadata": {},
   "outputs": [],
   "source": [
    "import numpy as np\n",
    "data = np.array([[3, 4, 5], [5, 6, 7]])\n",
    "\n",
    "min_data = np.min(data, axis=1, keepdims=True)\n",
    "max_data = np.max(data, axis=1, keepdims=True)\n",
    "normalized_data = (data - min_data) / (max_data - min_data)"
   ]
  },
  {
   "cell_type": "code",
   "execution_count": 24,
   "metadata": {},
   "outputs": [
    {
     "data": {
      "text/plain": [
       "array([3, 5])"
      ]
     },
     "execution_count": 24,
     "metadata": {},
     "output_type": "execute_result"
    }
   ],
   "source": [
    "min_data"
   ]
  },
  {
   "cell_type": "code",
   "execution_count": 25,
   "metadata": {},
   "outputs": [
    {
     "data": {
      "text/plain": [
       "array([5, 7])"
      ]
     },
     "execution_count": 25,
     "metadata": {},
     "output_type": "execute_result"
    }
   ],
   "source": [
    "max_data"
   ]
  },
  {
   "cell_type": "code",
   "execution_count": 31,
   "metadata": {},
   "outputs": [
    {
     "data": {
      "text/plain": [
       "True"
      ]
     },
     "execution_count": 31,
     "metadata": {},
     "output_type": "execute_result"
    }
   ],
   "source": [
    "np.round(6.66, 1) == np.round(6.67, 1)"
   ]
  },
  {
   "cell_type": "code",
   "execution_count": null,
   "metadata": {},
   "outputs": [],
   "source": []
  }
 ],
 "metadata": {
  "kernelspec": {
   "display_name": "mga-RYrVM4UM",
   "language": "python",
   "name": "python3"
  },
  "language_info": {
   "codemirror_mode": {
    "name": "ipython",
    "version": 3
   },
   "file_extension": ".py",
   "mimetype": "text/x-python",
   "name": "python",
   "nbconvert_exporter": "python",
   "pygments_lexer": "ipython3",
   "version": "3.10.9"
  },
  "orig_nbformat": 4
 },
 "nbformat": 4,
 "nbformat_minor": 2
}
