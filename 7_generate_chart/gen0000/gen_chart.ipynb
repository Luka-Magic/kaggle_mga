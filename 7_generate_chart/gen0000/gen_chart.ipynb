{
 "cells": [
  {
   "cell_type": "code",
   "execution_count": 1,
   "metadata": {},
   "outputs": [
    {
     "data": {
      "text/plain": [
       "214"
      ]
     },
     "execution_count": 1,
     "metadata": {},
     "output_type": "execute_result"
    }
   ],
   "source": [
    "import gc\n",
    "gc.collect()"
   ]
  },
  {
   "cell_type": "code",
   "execution_count": 87,
   "metadata": {},
   "outputs": [],
   "source": [
    "import matplotlib.pyplot as plt\n",
    "import numpy as np\n",
    "import pandas as pd\n",
    "import json\n",
    "from pathlib import Path\n",
    "from tqdm.notebook import tqdm\n",
    "from typing import List, Any, Union"
   ]
  },
  {
   "cell_type": "code",
   "execution_count": 22,
   "metadata": {},
   "outputs": [],
   "source": [
    "from gensim.test.utils import datapath, get_tmpfile\n",
    "from gensim.models import KeyedVectors\n",
    "from gensim.scripts import glove2word2vec    "
   ]
  },
  {
   "attachments": {},
   "cell_type": "markdown",
   "metadata": {},
   "source": [
    "# scatter"
   ]
  },
  {
   "cell_type": "code",
   "execution_count": 15,
   "metadata": {},
   "outputs": [],
   "source": [
    "import random\n",
    "\n",
    "def choose_key_by_weight(weighted_dict):\n",
    "    # 辞書のキーと値をそれぞれ別のリストに格納する\n",
    "    keys = list(weighted_dict.keys())\n",
    "    weights = list(weighted_dict.values())\n",
    "\n",
    "    # 値の総和を計算し、重みを確率として正規化する\n",
    "    total_weight = sum(weights)\n",
    "    probabilities = [weight / total_weight for weight in weights]\n",
    "\n",
    "    # 確率的にキーを選択する\n",
    "    chosen_key = random.choices(keys, probabilities)[0]\n",
    "    return chosen_key"
   ]
  },
  {
   "cell_type": "code",
   "execution_count": null,
   "metadata": {},
   "outputs": [],
   "source": [
    "def generate_1d_numerical_series(\n",
    "    n_values: int\n",
    "):\n",
    "    return "
   ]
  },
  {
   "cell_type": "code",
   "execution_count": 17,
   "metadata": {},
   "outputs": [
    {
     "name": "stdout",
     "output_type": "stream",
     "text": [
      "[[-0.76168585  0.92993505 -1.36913439  1.38976796  0.9940106  -0.04990822]\n",
      " [ 2.04366365 -0.72111785 -0.55847455 -0.53082782 -1.8066082   0.34172041]]\n"
     ]
    }
   ],
   "source": [
    "import numpy as np\n",
    "import random\n",
    "\n",
    "def generate_scatter_data(\n",
    "        n_datas: int,\n",
    "        x_ticks: List(Any),\n",
    "        x: float,\n",
    "    ):\n",
    "    distribution_weight = {\n",
    "        'normal': 0.3,\n",
    "        'uniform': 0.4,\n",
    "        'poisson': 0.1,\n",
    "        'binomial': 0.1,\n",
    "        'gamma': 0.05,\n",
    "        'beta': 0.05\n",
    "    }\n",
    "    distribution = choose_key_by_weight(distribution_weight)\n",
    "\n",
    "    # 分布からデータの生成\n",
    "    if distribution == \"normal\":\n",
    "        # 正規分布（平均0、標準偏差1）から生成\n",
    "        data = np.random.normal(0, 1, (2, n_datas))\n",
    "    elif distribution == \"uniform\":\n",
    "        # 一様分布（0以上1未満）から生成\n",
    "        data = np.random.uniform(0, 1, (2, n_datas))\n",
    "    elif distribution == \"poisson\":\n",
    "        # ポアソン分布（λ=1）から生成\n",
    "        data = np.random.poisson(1, (2, n_datas))\n",
    "    elif distribution == \"binomial\":\n",
    "        # 二項分布（n=10, p=0.5）から生成\n",
    "        data = np.random.binomial(10, 0.5, (2, n_datas))\n",
    "    elif distribution == \"gamma\":\n",
    "        # ガンマ分布（k=2, θ=2）から生成\n",
    "        data = np.random.gamma(2, 2, (2, n_datas))\n",
    "    elif distribution == \"beta\":\n",
    "        # ベータ分布（α=2, β=5）から生成\n",
    "        data = np.random.beta(2, 5, (2, n_datas))\n",
    "    else:\n",
    "        raise ValueError(\"Invalid distribution specified.\")\n",
    "    \n",
    "    # [0, 1]に正規化\n",
    "    # data = \n",
    "    \n",
    "    return data\n",
    "\n",
    "# 使用例\n",
    "n_datas = 6\n",
    "scatter_data = generate_scatter_data(n_datas)\n",
    "print(scatter_data)"
   ]
  },
  {
   "cell_type": "code",
   "execution_count": 85,
   "metadata": {},
   "outputs": [
    {
     "data": {
      "text/plain": [
       "<matplotlib.collections.PathCollection at 0x11b668370>"
      ]
     },
     "execution_count": 85,
     "metadata": {},
     "output_type": "execute_result"
    },
    {
     "data": {
      "image/png": "[encoded data removed]",
      "text/plain": [
       "<Figure size 500x500 with 1 Axes>"
      ]
     },
     "metadata": {},
     "output_type": "display_data"
    }
   ],
   "source": [
    "fig, ax = plt.subplots(figsize=(5, 5))\n",
    "x, y = generate_scatter_data(100)\n",
    "ax.scatter(x=x, y=y)"
   ]
  },
  {
   "cell_type": "code",
   "execution_count": 1,
   "metadata": {},
   "outputs": [],
   "source": [
    "from components.Data import DataGenerator"
   ]
  },
  {
   "cell_type": "code",
   "execution_count": 2,
   "metadata": {},
   "outputs": [
    {
     "data": {
      "text/plain": [
       "([1], [1])"
      ]
     },
     "execution_count": 2,
     "metadata": {},
     "output_type": "execute_result"
    }
   ],
   "source": [
    "cfg = {}\n",
    "DataGenerator.generate(cfg=cfg)"
   ]
  },
  {
   "cell_type": "code",
   "execution_count": 4,
   "metadata": {},
   "outputs": [
    {
     "ename": "TypeError",
     "evalue": "Can't instantiate abstract class DataGenerator with abstract method generate",
     "output_type": "error",
     "traceback": [
      "\u001b[0;31m---------------------------------------------------------------------------\u001b[0m",
      "\u001b[0;31mTypeError\u001b[0m                                 Traceback (most recent call last)",
      "Cell \u001b[0;32mIn[4], line 1\u001b[0m\n\u001b[0;32m----> 1\u001b[0m a \u001b[39m=\u001b[39m DataGenerator()\n",
      "\u001b[0;31mTypeError\u001b[0m: Can't instantiate abstract class DataGenerator with abstract method generate"
     ]
    }
   ],
   "source": [
    "a = DataGenerator()"
   ]
  },
  {
   "cell_type": "code",
   "execution_count": null,
   "metadata": {},
   "outputs": [],
   "source": []
  }
 ],
 "metadata": {
  "kernelspec": {
   "display_name": "mga-RYrVM4UM",
   "language": "python",
   "name": "python3"
  },
  "language_info": {
   "codemirror_mode": {
    "name": "ipython",
    "version": 3
   },
   "file_extension": ".py",
   "mimetype": "text/x-python",
   "name": "python",
   "nbconvert_exporter": "python",
   "pygments_lexer": "ipython3",
   "version": "3.10.9"
  },
  "orig_nbformat": 4
 },
 "nbformat": 4,
 "nbformat_minor": 2
}
