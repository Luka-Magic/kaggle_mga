{
 "cells": [
  {
   "attachments": {},
   "cell_type": "markdown",
   "metadata": {},
   "source": [
    "# main"
   ]
  },
  {
   "cell_type": "code",
   "execution_count": 4,
   "metadata": {},
   "outputs": [
    {
     "name": "stdout",
     "output_type": "stream",
     "text": [
      "100%|████████████████████████████████████| 60548/60548 [06:06<00:00, 165.33it/s]\n"
     ]
    }
   ],
   "source": [
    "!python main.py"
   ]
  },
  {
   "attachments": {},
   "cell_type": "markdown",
   "metadata": {},
   "source": [
    "# create characters"
   ]
  },
  {
   "cell_type": "code",
   "execution_count": 7,
   "metadata": {},
   "outputs": [
    {
     "name": "stdout",
     "output_type": "stream",
     "text": [
      "100%|█████████████████████████████| 1179479/1179479 [00:04<00:00, 262560.26it/s]\n"
     ]
    }
   ],
   "source": [
    "!python get_character.py"
   ]
  },
  {
   "attachments": {},
   "cell_type": "markdown",
   "metadata": {},
   "source": [
    "# Appendix"
   ]
  },
  {
   "cell_type": "code",
   "execution_count": 8,
   "metadata": {},
   "outputs": [],
   "source": [
    "import numpy as np\n",
    "from pathlib import Path\n",
    "import lmdb\n",
    "import six\n",
    "from PIL import Image\n",
    "import matplotlib.pyplot as plt\n",
    "from tqdm import tqdm\n",
    "import japanize_matplotlib\n",
    "import json\n",
    "import cv2"
   ]
  },
  {
   "cell_type": "code",
   "execution_count": 31,
   "metadata": {},
   "outputs": [],
   "source": [
    "text_lengths = []"
   ]
  },
  {
   "cell_type": "code",
   "execution_count": 32,
   "metadata": {},
   "outputs": [
    {
     "name": "stderr",
     "output_type": "stream",
     "text": [
      "100%|██████████| 1179479/1179479 [00:04<00:00, 267767.91it/s]\n"
     ]
    }
   ],
   "source": [
    "ROOT_DIR = Path.cwd().parents[2]\n",
    "EXP_NAME = Path.cwd().stem\n",
    "LMDB_DIR = ROOT_DIR / 'data' / EXP_NAME / 'lmdb'\n",
    "\n",
    "env = lmdb.open(str(LMDB_DIR), max_readers=32, readonly=True, lock=False, readahead=False, meminit=False)\n",
    "\n",
    "with env.begin(write=False) as txn:\n",
    "    n_samples = int(txn.get('num-samples'.encode()))\n",
    "    for i in tqdm(range(n_samples), total=n_samples):\n",
    "        i += 1\n",
    "        \n",
    "        # image\n",
    "        # img_key = f'image-{str(i).zfill(8)}'.encode()\n",
    "        # imgbuf = txn.get(img_key)\n",
    "        # buf = six.BytesIO()\n",
    "        # buf.write(imgbuf)\n",
    "        # buf.seek(0)\n",
    "        # img = Image.open(buf).convert('RGB')\n",
    "\n",
    "        # json\n",
    "        label_key = f'label-{str(i).zfill(8)}'.encode()\n",
    "        label = txn.get(label_key).decode('utf-8')\n",
    "        json_dict = json.loads(label)\n",
    "        text_lengths.append(len(json_dict['text']))\n",
    "        # if len(json_dict['text']) == 179:\n",
    "        #     img_key = f'image-{str(i).zfill(8)}'.encode()\n",
    "        #     imgbuf = txn.get(img_key)\n",
    "        #     buf = six.BytesIO()\n",
    "        #     buf.write(imgbuf)\n",
    "        #     buf.seek(0)\n",
    "        #     img = Image.open(buf).convert('RGB')\n",
    "        #     break"
   ]
  },
  {
   "cell_type": "code",
   "execution_count": 26,
   "metadata": {},
   "outputs": [
    {
     "data": {
      "image/png": "[encoded data removed]",
      "text/plain": [
       "<PIL.Image.Image image mode=RGB size=248x28>"
      ]
     },
     "execution_count": 26,
     "metadata": {},
     "output_type": "execute_result"
    }
   ],
   "source": [
    "img"
   ]
  },
  {
   "cell_type": "code",
   "execution_count": 27,
   "metadata": {},
   "outputs": [
    {
     "data": {
      "text/plain": [
       "{'id': '0b507ccf1a99',\n",
       " 'text': 'Benefit-sharing bonus (for increased productivity and thus increased revenue of the company, the distribution is between the company and employees according to different measures)',\n",
       " 'polygon': {'x0': 0,\n",
       "  'x1': 248,\n",
       "  'x2': 248,\n",
       "  'x3': 0,\n",
       "  'y0': 168,\n",
       "  'y1': 168,\n",
       "  'y2': 196,\n",
       "  'y3': 196},\n",
       " 'img-size': {'height': 28, 'width': 248},\n",
       " 'role': 'tick_label'}"
      ]
     },
     "execution_count": 27,
     "metadata": {},
     "output_type": "execute_result"
    }
   ],
   "source": [
    "json_dict"
   ]
  },
  {
   "cell_type": "code",
   "execution_count": 45,
   "metadata": {},
   "outputs": [],
   "source": [
    "c = 0\n",
    "for l in text_lengths:\n",
    "    if l > 25:\n",
    "        c += 1"
   ]
  },
  {
   "cell_type": "code",
   "execution_count": 46,
   "metadata": {},
   "outputs": [
    {
     "data": {
      "text/plain": [
       "1921"
      ]
     },
     "execution_count": 46,
     "metadata": {},
     "output_type": "execute_result"
    }
   ],
   "source": [
    "c"
   ]
  },
  {
   "cell_type": "code",
   "execution_count": 22,
   "metadata": {},
   "outputs": [
    {
     "data": {
      "text/plain": [
       "(array([9.38078e+05, 1.97785e+05, 2.92770e+04, 1.13690e+04, 2.49000e+03,\n",
       "        3.06000e+02, 1.14000e+02, 2.80000e+01, 1.30000e+01, 4.00000e+00,\n",
       "        6.00000e+00, 1.00000e+00, 3.00000e+00, 2.00000e+00, 0.00000e+00,\n",
       "        1.00000e+00, 1.00000e+00, 0.00000e+00, 0.00000e+00, 0.00000e+00,\n",
       "        0.00000e+00, 0.00000e+00, 0.00000e+00, 0.00000e+00, 0.00000e+00,\n",
       "        0.00000e+00, 0.00000e+00, 0.00000e+00, 0.00000e+00, 1.00000e+00]),\n",
       " array([  1.        ,   6.93333333,  12.86666667,  18.8       ,\n",
       "         24.73333333,  30.66666667,  36.6       ,  42.53333333,\n",
       "         48.46666667,  54.4       ,  60.33333333,  66.26666667,\n",
       "         72.2       ,  78.13333333,  84.06666667,  90.        ,\n",
       "         95.93333333, 101.86666667, 107.8       , 113.73333333,\n",
       "        119.66666667, 125.6       , 131.53333333, 137.46666667,\n",
       "        143.4       , 149.33333333, 155.26666667, 161.2       ,\n",
       "        167.13333333, 173.06666667, 179.        ]),\n",
       " <BarContainer object of 30 artists>)"
      ]
     },
     "execution_count": 22,
     "metadata": {},
     "output_type": "execute_result"
    },
    {
     "data": {
      "image/png": "[encoded data removed]",
      "text/plain": [
       "<Figure size 640x480 with 1 Axes>"
      ]
     },
     "metadata": {},
     "output_type": "display_data"
    }
   ],
   "source": [
    "plt.hist(text_lengths > 100, bins=30)"
   ]
  },
  {
   "cell_type": "code",
   "execution_count": null,
   "metadata": {},
   "outputs": [],
   "source": []
  }
 ],
 "metadata": {
  "kernelspec": {
   "display_name": "mga-RYrVM4UM",
   "language": "python",
   "name": "python3"
  },
  "language_info": {
   "codemirror_mode": {
    "name": "ipython",
    "version": 3
   },
   "file_extension": ".py",
   "mimetype": "text/x-python",
   "name": "python",
   "nbconvert_exporter": "python",
   "pygments_lexer": "ipython3",
   "version": "3.10.9"
  },
  "orig_nbformat": 4
 },
 "nbformat": 4,
 "nbformat_minor": 2
}
