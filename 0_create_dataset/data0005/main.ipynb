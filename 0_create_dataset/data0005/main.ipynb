{
 "cells": [
  {
   "attachments": {},
   "cell_type": "markdown",
   "metadata": {},
   "source": [
    "# main"
   ]
  },
  {
   "cell_type": "code",
   "execution_count": 3,
   "metadata": {},
   "outputs": [
    {
     "name": "stdout",
     "output_type": "stream",
     "text": [
      "100%|█████████████████████████████████████| 9049/9049 [00:07<00:00, 1254.53it/s]\n"
     ]
    }
   ],
   "source": [
    "!python main.py"
   ]
  },
  {
   "attachments": {},
   "cell_type": "markdown",
   "metadata": {},
   "source": [
    "# check output"
   ]
  },
  {
   "cell_type": "code",
   "execution_count": 4,
   "metadata": {},
   "outputs": [
    {
     "name": "stdout",
     "output_type": "stream",
     "text": [
      "9049\n",
      "(598, 427)\n",
      "{'chart-type': 'scatter',\n",
      " 'data-series': [{'x': 7138, 'y': 487},\n",
      "                 {'x': 7145, 'y': 5907},\n",
      "                 {'x': 7152, 'y': 777},\n",
      "                 {'x': 7159, 'y': 73},\n",
      "                 {'x': 7166, 'y': 6773},\n",
      "                 {'x': 7173, 'y': 636},\n",
      "                 {'x': 7180, 'y': 780},\n",
      "                 {'x': 7187, 'y': 5545},\n",
      "                 {'x': 7194, 'y': 794},\n",
      "                 {'x': 7201, 'y': 32},\n",
      "                 {'x': 7208, 'y': 503},\n",
      "                 {'x': 7215, 'y': 730},\n",
      "                 {'x': 7222, 'y': 1308},\n",
      "                 {'x': 7229, 'y': 1436},\n",
      "                 {'x': 7236, 'y': 767},\n",
      "                 {'x': 7243, 'y': 6003},\n",
      "                 {'x': 7250, 'y': 2049},\n",
      "                 {'x': 7257, 'y': 147},\n",
      "                 {'x': 7264, 'y': 7067},\n",
      "                 {'x': 7271, 'y': 6353},\n",
      "                 {'x': 7278, 'y': 2869},\n",
      "                 {'x': 7285, 'y': 4483},\n",
      "                 {'x': 7292, 'y': 420},\n",
      "                 {'x': 7299, 'y': 768},\n",
      "                 {'x': 7306, 'y': 265},\n",
      "                 {'x': 7313, 'y': 8966},\n",
      "                 {'x': 7320, 'y': 697},\n",
      "                 {'x': 7327, 'y': 278}],\n",
      " 'id': '6400',\n",
      " 'image-size': {'height': 427, 'width': 598},\n",
      " 'source': 'nb_generator0000'}\n",
      "(616, 441)\n",
      "{'chart-type': 'scatter',\n",
      " 'data-series': [{'x': 7398, 'y': 1.37},\n",
      "                 {'x': 7402, 'y': 0.81},\n",
      "                 {'x': 7406, 'y': 0.83},\n",
      "                 {'x': 7410, 'y': 0.79},\n",
      "                 {'x': 7414, 'y': 2.13},\n",
      "                 {'x': 7418, 'y': 0.97},\n",
      "                 {'x': 7422, 'y': 0.9},\n",
      "                 {'x': 7426, 'y': 1.89},\n",
      "                 {'x': 7430, 'y': 1.0}],\n",
      " 'id': '1376',\n",
      " 'image-size': {'height': 441, 'width': 616},\n",
      " 'source': 'nb_generator0000'}\n"
     ]
    }
   ],
   "source": [
    "!python check_lmdb.py"
   ]
  },
  {
   "cell_type": "code",
   "execution_count": null,
   "metadata": {},
   "outputs": [],
   "source": []
  }
 ],
 "metadata": {
  "kernelspec": {
   "display_name": "mga-RYrVM4UM",
   "language": "python",
   "name": "python3"
  },
  "language_info": {
   "codemirror_mode": {
    "name": "ipython",
    "version": 3
   },
   "file_extension": ".py",
   "mimetype": "text/x-python",
   "name": "python",
   "nbconvert_exporter": "python",
   "pygments_lexer": "ipython3",
   "version": "3.10.9"
  },
  "orig_nbformat": 4
 },
 "nbformat": 4,
 "nbformat_minor": 2
}
