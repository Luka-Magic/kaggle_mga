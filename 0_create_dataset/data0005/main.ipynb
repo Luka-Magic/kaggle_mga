{
 "cells": [
  {
   "attachments": {},
   "cell_type": "markdown",
   "metadata": {},
   "source": [
    "# main"
   ]
  },
  {
   "cell_type": "code",
   "execution_count": 1,
   "metadata": {},
   "outputs": [
    {
     "name": "stdout",
     "output_type": "stream",
     "text": [
      "100%|███████████████████████████████████| 50000/50000 [00:48<00:00, 1031.22it/s]\n"
     ]
    }
   ],
   "source": [
    "!python main.py"
   ]
  },
  {
   "attachments": {},
   "cell_type": "markdown",
   "metadata": {},
   "source": [
    "# check output"
   ]
  },
  {
   "cell_type": "code",
   "execution_count": 3,
   "metadata": {},
   "outputs": [
    {
     "name": "stdout",
     "output_type": "stream",
     "text": [
      "50000\n",
      "(564, 456)\n",
      "{'chart-type': 'scatter',\n",
      " 'data-series': [{'x': 1596, 'y': 31},\n",
      "                 {'x': 1846, 'y': 23},\n",
      "                 {'x': 2096, 'y': 10},\n",
      "                 {'x': 2346, 'y': 33},\n",
      "                 {'x': 2596, 'y': 19},\n",
      "                 {'x': 2846, 'y': 3},\n",
      "                 {'x': 3096, 'y': 16},\n",
      "                 {'x': 3346, 'y': 5},\n",
      "                 {'x': 3596, 'y': 44},\n",
      "                 {'x': 3846, 'y': 18},\n",
      "                 {'x': 4096, 'y': 33},\n",
      "                 {'x': 4346, 'y': 24},\n",
      "                 {'x': 4596, 'y': 25}],\n",
      " 'id': '14147',\n",
      " 'image-size': {'height': 456, 'width': 564},\n",
      " 'source': 'nb_generator0000'}\n",
      "(545, 430)\n",
      "{'chart-type': 'scatter',\n",
      " 'data-series': [{'x': 1103, 'y': 50.09},\n",
      "                 {'x': 1113, 'y': 414.45},\n",
      "                 {'x': 1123, 'y': 150.59},\n",
      "                 {'x': 1133, 'y': 9.55},\n",
      "                 {'x': 1143, 'y': 7.51},\n",
      "                 {'x': 1153, 'y': 33.04},\n",
      "                 {'x': 1163, 'y': 102.76},\n",
      "                 {'x': 1173, 'y': 326.12},\n",
      "                 {'x': 1183, 'y': 100.03}],\n",
      " 'id': '13631',\n",
      " 'image-size': {'height': 430, 'width': 545},\n",
      " 'source': 'nb_generator0000'}\n"
     ]
    }
   ],
   "source": [
    "!python check_lmdb.py"
   ]
  },
  {
   "cell_type": "code",
   "execution_count": null,
   "metadata": {},
   "outputs": [],
   "source": []
  }
 ],
 "metadata": {
  "kernelspec": {
   "display_name": "mga-RYrVM4UM",
   "language": "python",
   "name": "python3"
  },
  "language_info": {
   "codemirror_mode": {
    "name": "ipython",
    "version": 3
   },
   "file_extension": ".py",
   "mimetype": "text/x-python",
   "name": "python",
   "nbconvert_exporter": "python",
   "pygments_lexer": "ipython3",
   "version": "3.10.9"
  },
  "orig_nbformat": 4
 },
 "nbformat": 4,
 "nbformat_minor": 2
}
