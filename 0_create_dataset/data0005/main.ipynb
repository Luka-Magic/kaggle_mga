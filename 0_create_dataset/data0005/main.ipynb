{
 "cells": [
  {
   "attachments": {},
   "cell_type": "markdown",
   "metadata": {},
   "source": [
    "# main"
   ]
  },
  {
   "cell_type": "code",
   "execution_count": 1,
   "metadata": {},
   "outputs": [
    {
     "name": "stdout",
     "output_type": "stream",
     "text": [
      "100%|█████████████████████████████████████████| 30/30 [00:00<00:00, 1099.59it/s]\n"
     ]
    }
   ],
   "source": [
    "!python main.py"
   ]
  },
  {
   "attachments": {},
   "cell_type": "markdown",
   "metadata": {},
   "source": [
    "# check output"
   ]
  },
  {
   "cell_type": "code",
   "execution_count": 2,
   "metadata": {},
   "outputs": [
    {
     "name": "stdout",
     "output_type": "stream",
     "text": [
      "30\n",
      "(552, 418)\n",
      "{'chart-type': 'scatter',\n",
      " 'data-series': [{'x': 5, 'y': 33.89},\n",
      "                 {'x': 13, 'y': 28.29},\n",
      "                 {'x': 218, 'y': 32.38},\n",
      "                 {'x': 314, 'y': 116.31},\n",
      "                 {'x': 484, 'y': 22.62},\n",
      "                 {'x': 794, 'y': 92.24}],\n",
      " 'id': '9',\n",
      " 'image-size': {'height': 418, 'width': 552},\n",
      " 'source': 'nb_generator0000'}\n",
      "(618, 442)\n",
      "{'chart-type': 'scatter',\n",
      " 'data-series': [{'x': 2.6, 'y': 0.28},\n",
      "                 {'x': 2.81, 'y': 0.68},\n",
      "                 {'x': 3.57, 'y': 0.58},\n",
      "                 {'x': 3.7, 'y': 0.72},\n",
      "                 {'x': 4.08, 'y': 0.21},\n",
      "                 {'x': 6.11, 'y': 0.68},\n",
      "                 {'x': 13.02, 'y': 0.3},\n",
      "                 {'x': 17.31, 'y': 0.23},\n",
      "                 {'x': 27.5, 'y': 0.97},\n",
      "                 {'x': 53.67, 'y': 0.49},\n",
      "                 {'x': 65.58, 'y': 0.86},\n",
      "                 {'x': 72.84, 'y': 0.84}],\n",
      " 'id': '0',\n",
      " 'image-size': {'height': 442, 'width': 618},\n",
      " 'source': 'nb_generator0000'}\n"
     ]
    }
   ],
   "source": [
    "!python check_lmdb.py"
   ]
  },
  {
   "cell_type": "code",
   "execution_count": null,
   "metadata": {},
   "outputs": [],
   "source": []
  }
 ],
 "metadata": {
  "kernelspec": {
   "display_name": "mga-RYrVM4UM",
   "language": "python",
   "name": "python3"
  },
  "language_info": {
   "codemirror_mode": {
    "name": "ipython",
    "version": 3
   },
   "file_extension": ".py",
   "mimetype": "text/x-python",
   "name": "python",
   "nbconvert_exporter": "python",
   "pygments_lexer": "ipython3",
   "version": "3.10.9"
  },
  "orig_nbformat": 4
 },
 "nbformat": 4,
 "nbformat_minor": 2
}
