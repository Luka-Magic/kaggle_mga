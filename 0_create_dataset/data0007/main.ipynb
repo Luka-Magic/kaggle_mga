{
 "cells": [
  {
   "attachments": {},
   "cell_type": "markdown",
   "metadata": {},
   "source": [
    "# main"
   ]
  },
  {
   "cell_type": "code",
   "execution_count": 7,
   "metadata": {},
   "outputs": [
    {
     "name": "stdout",
     "output_type": "stream",
     "text": [
      "100%|███████████████████████████████████| 22923/22923 [00:06<00:00, 3369.07it/s]\n"
     ]
    }
   ],
   "source": [
    "!python main.py"
   ]
  },
  {
   "attachments": {},
   "cell_type": "markdown",
   "metadata": {},
   "source": [
    "# check output"
   ]
  },
  {
   "cell_type": "markdown",
   "metadata": {},
   "source": []
  },
  {
   "cell_type": "code",
   "execution_count": 8,
   "metadata": {},
   "outputs": [
    {
     "name": "stdout",
     "output_type": "stream",
     "text": [
      "1107\n",
      "(600, 381)\n",
      "{'chart-type': 'vertical_bar',\n",
      " 'count': 6,\n",
      " 'data-series': [{'x': '1', 'y': 0.0034642032332563907},\n",
      "                 {'x': '2', 'y': 0.04711316397228642},\n",
      "                 {'x': '3', 'y': 0.566743648960739},\n",
      "                 {'x': '4', 'y': 0.36096997690531185},\n",
      "                 {'x': '5', 'y': 0.03048498845265593},\n",
      "                 {'x': '6', 'y': 0.0034642032332563907}],\n",
      " 'id': 'PMC2874758___1471-2156-11-30-7',\n",
      " 'image-size': {'height': 381, 'width': 600},\n",
      " 'source': 'icdar2022'}\n",
      "(730, 496)\n",
      "{'chart-type': 'line',\n",
      " 'count': 4,\n",
      " 'data-series': [{'x': 0.10186757215619695, 'y': 33.956471045472206},\n",
      "                 {'x': 5.02546689303905, 'y': 82.06373882627284},\n",
      "                 {'x': 10.084889643463498, 'y': 79.42090944422853},\n",
      "                 {'x': 20.0339558573854, 'y': 65.04858142246405}],\n",
      " 'id': 'PMC5513584___materials-02-02360-g007',\n",
      " 'image-size': {'height': 496, 'width': 730},\n",
      " 'source': 'icdar2022'}\n"
     ]
    }
   ],
   "source": [
    "!python check_lmdb.py valid"
   ]
  },
  {
   "cell_type": "code",
   "execution_count": null,
   "metadata": {},
   "outputs": [],
   "source": []
  }
 ],
 "metadata": {
  "kernelspec": {
   "display_name": "mga-RYrVM4UM",
   "language": "python",
   "name": "python3"
  },
  "language_info": {
   "codemirror_mode": {
    "name": "ipython",
    "version": 3
   },
   "file_extension": ".py",
   "mimetype": "text/x-python",
   "name": "python",
   "nbconvert_exporter": "python",
   "pygments_lexer": "ipython3",
   "version": "3.10.9"
  },
  "orig_nbformat": 4
 },
 "nbformat": 4,
 "nbformat_minor": 2
}
