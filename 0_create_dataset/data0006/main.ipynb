{
 "cells": [
  {
   "attachments": {},
   "cell_type": "markdown",
   "metadata": {},
   "source": [
    "# main"
   ]
  },
  {
   "cell_type": "code",
   "execution_count": 18,
   "metadata": {},
   "outputs": [
    {
     "name": "stdout",
     "output_type": "stream",
     "text": [
      "100%|█████████████████████████████████| 500000/500000 [07:14<00:00, 1149.64it/s]\n",
      "train: count500001\n",
      "100%|█████████████████████████████████████| 1118/1118 [00:00<00:00, 1411.18it/s]\n",
      "valid: count1119\n"
     ]
    }
   ],
   "source": [
    "!python main.py"
   ]
  },
  {
   "attachments": {},
   "cell_type": "markdown",
   "metadata": {},
   "source": [
    "# check output"
   ]
  },
  {
   "cell_type": "code",
   "execution_count": 20,
   "metadata": {},
   "outputs": [
    {
     "name": "stdout",
     "output_type": "stream",
     "text": [
      "1118\n",
      "(512, 390)\n",
      "{'chart-type': 'line',\n",
      " 'count': 7,\n",
      " 'data-series': [{'x': '0.0', 'y': '0.013278'},\n",
      "                 {'x': '0.4', 'y': '0.0132781'},\n",
      "                 {'x': '0.8', 'y': '0.0132824'},\n",
      "                 {'x': '1.2', 'y': '0.0132724'},\n",
      "                 {'x': '1.6', 'y': '0.0132788'},\n",
      "                 {'x': '2.0', 'y': '0.0132701'},\n",
      "                 {'x': '2.4', 'y': '0.013278'}],\n",
      " 'id': 'graphs_val_007a18eb4e09',\n",
      " 'image-size': {'height': 390, 'width': 512},\n",
      " 'source': 'bartley_1'}\n",
      "(512, 416)\n",
      "{'chart-type': 'vertical_bar',\n",
      " 'count': 10,\n",
      " 'data-series': [{'x': '1990', 'y': '0.2'},\n",
      "                 {'x': '1991', 'y': '0.2'},\n",
      "                 {'x': '1992', 'y': '0.2'},\n",
      "                 {'x': '1993', 'y': '24.0'},\n",
      "                 {'x': '1994', 'y': '27.7'},\n",
      "                 {'x': '1995', 'y': '22.0'},\n",
      "                 {'x': '1996', 'y': '19.0'},\n",
      "                 {'x': '1997', 'y': '27.1'},\n",
      "                 {'x': '1998', 'y': '20.6'},\n",
      "                 {'x': '1999', 'y': '25.5'}],\n",
      " 'id': 'graphs_val_fff5ca7bd414',\n",
      " 'image-size': {'height': 416, 'width': 512},\n",
      " 'source': 'bartley_1'}\n"
     ]
    }
   ],
   "source": [
    "!python check_lmdb.py valid"
   ]
  },
  {
   "cell_type": "code",
   "execution_count": null,
   "metadata": {},
   "outputs": [],
   "source": []
  }
 ],
 "metadata": {
  "kernelspec": {
   "display_name": "mga-RYrVM4UM",
   "language": "python",
   "name": "python3"
  },
  "language_info": {
   "codemirror_mode": {
    "name": "ipython",
    "version": 3
   },
   "file_extension": ".py",
   "mimetype": "text/x-python",
   "name": "python",
   "nbconvert_exporter": "python",
   "pygments_lexer": "ipython3",
   "version": "3.10.9"
  },
  "orig_nbformat": 4
 },
 "nbformat": 4,
 "nbformat_minor": 2
}
