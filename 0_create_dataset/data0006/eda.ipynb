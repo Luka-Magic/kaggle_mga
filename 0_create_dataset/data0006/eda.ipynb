{
 "cells": [
  {
   "cell_type": "code",
   "execution_count": 70,
   "metadata": {},
   "outputs": [],
   "source": [
    "import numpy as np\n",
    "from pathlib import Path\n",
    "import lmdb\n",
    "import six\n",
    "from PIL import Image\n",
    "import matplotlib.pyplot as plt\n",
    "from tqdm import tqdm\n",
    "import japanize_matplotlib\n",
    "import json\n",
    "import cv2\n",
    "import time\n",
    "from typing import List, Dict, Union, Tuple, Any\n",
    "from pprint import pprint"
   ]
  },
  {
   "cell_type": "code",
   "execution_count": 188,
   "metadata": {},
   "outputs": [],
   "source": [
    "root_dir = Path().cwd().parents[2]\n",
    "data_dir = root_dir / 'data' / 'data0007'\n",
    "if (data_dir / 'lmdb').exists():\n",
    "    lmdb_dir = data_dir / 'lmdb'\n",
    "else:\n",
    "    lmdb_dir = data_dir / 'valid' / 'lmdb'\n",
    "env = lmdb.open(str(lmdb_dir), max_readers=32,\n",
    "                readonly=True, lock=False, readahead=False, meminit=False)\n",
    "\n",
    "with env.begin(write=False) as txn:\n",
    "    n_samples = int(txn.get('num-samples'.encode()))"
   ]
  },
  {
   "cell_type": "code",
   "execution_count": 189,
   "metadata": {},
   "outputs": [
    {
     "data": {
      "text/plain": [
       "1107"
      ]
     },
     "execution_count": 189,
     "metadata": {},
     "output_type": "execute_result"
    }
   ],
   "source": [
    "n_samples"
   ]
  },
  {
   "cell_type": "code",
   "execution_count": 190,
   "metadata": {},
   "outputs": [],
   "source": [
    "def round_float(value):\n",
    "    \"\"\"\n",
    "    Convert a float value to a string with the specified number of decimal places. \n",
    "    If there is more than 1 digit in the integer, then we will truncate to 1 decimal.\n",
    "    Otherwise, will truncate to 4 decimals.\n",
    "\n",
    "    Args:\n",
    "        value (int, float, str): The float value to convert\n",
    "\n",
    "    Returns:\n",
    "        str: The rounded float value as a string\n",
    "    \"\"\"\n",
    "    if isinstance(value, float):\n",
    "        value = str(value)\n",
    "\n",
    "        if \".\" in value:\n",
    "            integer, decimal = value.split(\".\")\n",
    "            if abs(float(integer)) > 1:\n",
    "                decimal = decimal[:1]\n",
    "            else:\n",
    "                decimal = decimal[:4]\n",
    "\n",
    "            value = integer + \".\" + decimal\n",
    "    return value"
   ]
  },
  {
   "cell_type": "code",
   "execution_count": 191,
   "metadata": {},
   "outputs": [
    {
     "name": "stderr",
     "output_type": "stream",
     "text": [
      "100%|██████████| 1107/1107 [00:00<00:00, 41954.41it/s]\n"
     ]
    }
   ],
   "source": [
    "anns = []\n",
    "for idx in tqdm(range(n_samples), total=n_samples):\n",
    "    with env.begin(write=False) as txn:\n",
    "        # load json\n",
    "        label_key = f'label-{str(idx+1).zfill(8)}'.encode()\n",
    "        label = txn.get(label_key).decode('utf-8')\n",
    "    json_dict = json.loads(label)\n",
    "    if json_dict['chart-type'] not in ['scatter']:\n",
    "        continue\n",
    "    anns.append(json_dict)"
   ]
  },
  {
   "cell_type": "code",
   "execution_count": 196,
   "metadata": {},
   "outputs": [
    {
     "name": "stdout",
     "output_type": "stream",
     "text": [
      "[{'x': 1.0601275432736108, 'y': 45.302159391020666},\n",
      " {'x': 1.0674157303370786, 'y': 51.578375019418985},\n",
      " {'x': 1.1484500922703171, 'y': 55.86429416474469},\n",
      " {'x': 1.1578041672660242, 'y': 46.7068673703834},\n",
      " {'x': 1.349029711117424, 'y': 46.004750760472476},\n",
      " {'x': 1.3672125020439627, 'y': 49.03478686918178},\n",
      " {'x': 1.4421717062166501, 'y': 41.79897467764487},\n",
      " {'x': 1.5233323210851302, 'y': 43.494899280203},\n",
      " {'x': 1.5132098390525357, 'y': 45.048418000103574},\n",
      " {'x': 1.4544994432634883, 'y': 46.13588110403398},\n",
      " {'x': 1.460572932483045, 'y': 46.4465848480141},\n",
      " {'x': 1.6286061342241118, 'y': 46.601936720004154},\n",
      " {'x': 1.7197084725174614, 'y': 44.27165864015329},\n",
      " {'x': 2.1590241927320575, 'y': 40.33607788307183},\n",
      " {'x': 2.6955157404595607, 'y': 48.6215110558749},\n",
      " {'x': 2.401963761514323, 'y': 52.1428201543162},\n",
      " {'x': 2.3331308836926814, 'y': 53.178499300916585},\n",
      " {'x': 2.1731956675776902, 'y': 52.194604111646214},\n",
      " {'x': 2.037554408340925, 'y': 51.00357309305578},\n",
      " {'x': 1.7986638323716975, 'y': 51.10714100771581},\n",
      " {'x': 1.6286061342241118, 'y': 49.81254207446534},\n",
      " {'x': 1.5395282923372813, 'y': 50.64108539174564},\n",
      " {'x': 1.32493167324628, 'y': 54.00704261819689},\n",
      " {'x': 1.3957890474744408, 'y': 54.05882657552691},\n",
      " {'x': 1.4281809899787428, 'y': 60.117549583139144},\n",
      " {'x': 1.4666464217026016, 'y': 55.76769716741754},\n",
      " {'x': 1.5334548031177246, 'y': 56.28553674071773},\n",
      " {'x': 1.5516752707763946, 'y': 58.14975920459842},\n",
      " {'x': 1.5294058103046868, 'y': 60.58360519910932},\n",
      " {'x': 1.571920234841583, 'y': 54.05882657552691},\n",
      " {'x': 1.7197084725174614, 'y': 55.81948112474756},\n",
      " {'x': 1.6367041198501873, 'y': 57.269431929988095},\n",
      " {'x': 1.6711205587610083, 'y': 59.703277924499},\n",
      " {'x': 1.7217329689239802, 'y': 65.6584330174512},\n",
      " {'x': 1.673145055167527, 'y': 67.5226554813319},\n",
      " {'x': 1.8654722137868205, 'y': 53.90347470353685},\n",
      " {'x': 2.1489017106994637, 'y': 54.16239449018695},\n",
      " {'x': 1.8351047676890373, 'y': 59.13365439386879},\n",
      " {'x': 1.8978641562911225, 'y': 58.408678991248514},\n",
      " {'x': 1.8290312784694807, 'y': 61.72285226036974},\n",
      " {'x': 1.8614232209737829, 'y': 62.810315364300145},\n",
      " {'x': 1.8938151634780849, 'y': 64.20848221221067},\n",
      " {'x': 1.9140601275432736, 'y': 63.2245870229403},\n",
      " {'x': 1.9383540844215001, 'y': 62.86209932163017},\n",
      " {'x': 2.0800688328778216, 'y': 61.25679664439957},\n",
      " {'x': 2.1327057394473123, 'y': 59.703277924499},\n",
      " {'x': 2.140803725073388, 'y': 58.92651856454871},\n",
      " {'x': 2.055774875999595, 'y': 57.32121588731811},\n",
      " {'x': 2.1003137969430106, 'y': 65.60664906012119},\n",
      " {'x': 2.0598238688126327, 'y': 67.47087152400186},\n",
      " {'x': 2.1367547322603504, 'y': 70.06006939050283},\n",
      " {'x': 2.855450956574552, 'y': 56.130184868727675},\n",
      " {'x': 2.7785200931268346, 'y': 57.47656775930817},\n",
      " {'x': 2.9101123595505616, 'y': 59.858629796489055},\n",
      " {'x': 2.5031885818402673, 'y': 56.389104655377764},\n",
      " {'x': 2.509262071059824, 'y': 57.47656775930817},\n",
      " {'x': 2.553800992003239, 'y': 58.0979752472684},\n",
      " {'x': 2.3898167830752097, 'y': 55.04272176479727},\n",
      " {'x': 2.3452778621317947, 'y': 55.87126508207758},\n",
      " {'x': 2.37159631541654, 'y': 57.89083941794833},\n",
      " {'x': 2.2804939771231902, 'y': 61.671068303039725},\n",
      " {'x': 2.254175523838445, 'y': 67.26373569468178},\n",
      " {'x': 2.3007389411883796, 'y': 67.67800735332195},\n",
      " {'x': 2.276444984310153, 'y': 71.45823623841335},\n",
      " {'x': 2.35337584775787, 'y': 65.60664906012119},\n",
      " {'x': 2.393865775888248, 'y': 65.60664906012119},\n",
      " {'x': 2.3999392651078044, 'y': 62.344259748329975},\n",
      " {'x': 2.434355704018625, 'y': 59.54792605250894},\n",
      " {'x': 2.4626986537098894, 'y': 60.73895707109938},\n",
      " {'x': 2.553800992003239, 'y': 61.61928434570971},\n",
      " {'x': 2.491041603401154, 'y': 73.06353891564393},\n",
      " {'x': 2.7704221075007593, 'y': 71.25110040909327},\n",
      " {'x': 2.8169855248506934, 'y': 68.40298275594222},\n",
      " {'x': 3.140904949893714, 'y': 66.53876029206153},\n",
      " {'x': 3.2218848061544687, 'y': 74.09921806224432},\n",
      " {'x': 3.6237473428484663, 'y': 54.421314276837045},\n",
      " {'x': 1.8766069440226745, 'y': 63.845994510900525}]\n"
     ]
    }
   ],
   "source": [
    "pprint(anns[2]['data-series'])"
   ]
  },
  {
   "cell_type": "code",
   "execution_count": 50,
   "metadata": {},
   "outputs": [
    {
     "data": {
      "text/plain": [
       "'714950.7'"
      ]
     },
     "execution_count": 50,
     "metadata": {},
     "output_type": "execute_result"
    }
   ],
   "source": [
    "f = anns[4]['data-series'][0]['y']"
   ]
  },
  {
   "cell_type": "code",
   "execution_count": 52,
   "metadata": {},
   "outputs": [
    {
     "name": "stdout",
     "output_type": "stream",
     "text": [
      "0.00045262 -> 0.0004\n",
      "0.54354 -> 0.5435\n",
      "543523.2543 -> 543523.2\n",
      "0.4 -> 0.4\n",
      "541 -> 541\n",
      "543.51 -> 543.5\n"
     ]
    }
   ],
   "source": [
    "num = [\n",
    "    0.00045262,\n",
    "    0.54354,\n",
    "    543523.2543,\n",
    "    0.4,\n",
    "    541,\n",
    "    543.51\n",
    "]\n",
    "\n",
    "for n in num:\n",
    "    f_num = round_float(n)\n",
    "    print(f'{n} -> {f_num}')"
   ]
  },
  {
   "cell_type": "code",
   "execution_count": 167,
   "metadata": {},
   "outputs": [],
   "source": [
    "def rmse(y_true: List[float], y_pred: List[float]) -> float:\n",
    "    \"\"\"\n",
    "    Calculate the Root Mean Square Error (RMSE) between the true and predicted values.\n",
    "\n",
    "    Args:\n",
    "        y_true (List[float]): The true values.\n",
    "        y_pred (List[float]): The predicted values.\n",
    "\n",
    "    Returns:\n",
    "        float: The Root Mean Square Error.\n",
    "    \"\"\"\n",
    "    return np.sqrt(np.mean(np.square(np.subtract(y_true, y_pred))))\n",
    "\n",
    "\n",
    "def normalized_rmse(y_true: List[float], y_pred: List[float]) -> float:\n",
    "    \"\"\"\n",
    "    Calculate the normalized Root Mean Square Error (RMSE) between the true and predicted values.\n",
    "\n",
    "    Args:\n",
    "        y_true (List[float]): The true values.\n",
    "        y_pred (List[float]): The predicted values.\n",
    "\n",
    "    Returns:\n",
    "        float: The normalized Root Mean Square Error.\n",
    "    \"\"\"\n",
    "    numerator = rmse(y_true, y_pred)\n",
    "    denominator = rmse(y_true, np.mean(y_true))\n",
    "\n",
    "    # https://www.kaggle.com/competitions/benetech-making-graphs-accessible/discussion/396947\n",
    "    if denominator == 0:\n",
    "        if numerator == 0:\n",
    "            return 1.0  # 正解が1つ & 正解したら\n",
    "        return 0.0\n",
    "\n",
    "    return sigmoid(numerator / denominator)\n",
    "\n",
    "def sigmoid(x):\n",
    "    return 2 - 2 / (1 + np.exp(-x))\n",
    "\n",
    "def reduce_precision(arr):\n",
    "    for i in range(-7, 7):\n",
    "        # Round array\n",
    "        prec = np.round(arr, decimals=i)\n",
    "        if i <= 0:\n",
    "            prec = prec.astype(int)\n",
    "        prec = list(prec)\n",
    "        # Check if nrmse is close enough\n",
    "        if normalized_rmse(arr, prec) >= 0.96:\n",
    "            return prec\n",
    "    return arr"
   ]
  },
  {
   "cell_type": "code",
   "execution_count": 168,
   "metadata": {},
   "outputs": [],
   "source": [
    "def round_data(value):\n",
    "    \"\"\"\n",
    "    Convert a float value to a string with the specified number of decimal places. \n",
    "    If there is more than 1 digit in the integer, then we will truncate to 1 decimal.\n",
    "    Otherwise, will truncate to 4 decimals.\n",
    "\n",
    "    Args:\n",
    "        value (int, float, str): The float value to convert\n",
    "\n",
    "    Returns:\n",
    "        str: The rounded float value as a string\n",
    "    \"\"\"\n",
    "    if isinstance(value, float):\n",
    "        value = str(value)\n",
    "\n",
    "        if \".\" in value:\n",
    "            integer, decimal = value.split(\".\")\n",
    "            if abs(float(integer)) > 1:\n",
    "                decimal = decimal[:1]\n",
    "            else:\n",
    "                decimal = decimal[:4]\n",
    "\n",
    "            value = integer + \".\" + decimal\n",
    "    return value"
   ]
  },
  {
   "cell_type": "code",
   "execution_count": 172,
   "metadata": {},
   "outputs": [
    {
     "data": {
      "text/plain": [
       "[0.4, 0.6, 0.4, 0.6, 0.4, 3.0]"
      ]
     },
     "execution_count": 172,
     "metadata": {},
     "output_type": "execute_result"
    }
   ],
   "source": [
    "reduce_precision([0.43, 0.56, 0.435, 0.64, 0.45, 3])"
   ]
  },
  {
   "cell_type": "code",
   "execution_count": 152,
   "metadata": {},
   "outputs": [
    {
     "name": "stdout",
     "output_type": "stream",
     "text": [
      "[0. 0.]\n",
      "[0. 0.]\n",
      "[0. 0.]\n",
      "[0. 0.]\n",
      "[1. 1.]\n",
      "[0.5 0.7]\n",
      "[0.54 0.65]\n",
      "[0.543 0.655]\n",
      "[0.5426 0.6546]\n"
     ]
    }
   ],
   "source": [
    "for i in range(-4, 5):\n",
    "    print(np.round([0.54265, 0.654625], i))"
   ]
  },
  {
   "cell_type": "code",
   "execution_count": 154,
   "metadata": {},
   "outputs": [
    {
     "data": {
      "text/plain": [
       "0.9663519848851483"
      ]
     },
     "execution_count": 154,
     "metadata": {},
     "output_type": "execute_result"
    }
   ],
   "source": [
    "normalized_rmse([0.54265, 0.654625], [0.54, 0.65])"
   ]
  },
  {
   "cell_type": "code",
   "execution_count": null,
   "metadata": {},
   "outputs": [],
   "source": []
  }
 ],
 "metadata": {
  "kernelspec": {
   "display_name": "mga-RYrVM4UM",
   "language": "python",
   "name": "python3"
  },
  "language_info": {
   "codemirror_mode": {
    "name": "ipython",
    "version": 3
   },
   "file_extension": ".py",
   "mimetype": "text/x-python",
   "name": "python",
   "nbconvert_exporter": "python",
   "pygments_lexer": "ipython3",
   "version": "3.10.9"
  },
  "orig_nbformat": 4
 },
 "nbformat": 4,
 "nbformat_minor": 2
}
