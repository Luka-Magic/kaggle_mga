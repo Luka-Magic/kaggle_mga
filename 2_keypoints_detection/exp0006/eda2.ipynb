{
 "cells": [
  {
   "cell_type": "code",
   "execution_count": 2,
   "metadata": {},
   "outputs": [],
   "source": [
    "import numpy as np\n",
    "import lmdb\n",
    "import numpy as np\n",
    "import torch\n",
    "import six\n",
    "from torch.utils.data import Dataset\n",
    "import json\n",
    "from PIL import Image\n",
    "\n",
    "import matplotlib.pyplot as plt\n",
    "from pathlib import Path\n",
    "import cv2\n",
    "from tqdm import trange\n",
    "\n",
    "import albumentations as A\n",
    "from albumentations import KeypointParams\n",
    "from albumentations.pytorch import ToTensorV2"
   ]
  },
  {
   "cell_type": "code",
   "execution_count": 5,
   "metadata": {},
   "outputs": [],
   "source": [
    "ROOT_DIR = Path().cwd().parents[2]"
   ]
  },
  {
   "cell_type": "code",
   "execution_count": 6,
   "metadata": {},
   "outputs": [],
   "source": [
    "# indices\n",
    "env = lmdb.open(str(ROOT_DIR / 'data' / 'data0004' / 'lmdb'), max_readers=32, readonly=True, lock=False, readahead=False, meminit=False)\n",
    "with env.begin(write=False) as txn:\n",
    "    n_samples = int(txn.get('num-samples'.encode()))\n",
    "\n",
    "indices = []\n",
    "with env.begin(write=False) as txn:\n",
    "    for i in range(n_samples):\n",
    "        # load json\n",
    "        label_key = f'label-{str(i+1).zfill(8)}'.encode()\n",
    "        label = txn.get(label_key).decode('utf-8')\n",
    "        json_dict = json.loads(label)\n",
    "        if json_dict['chart-type'] != 'scatter':\n",
    "            continue\n",
    "        indices.append(i)"
   ]
  },
  {
   "cell_type": "code",
   "execution_count": 28,
   "metadata": {},
   "outputs": [],
   "source": [
    "LMDB_DIR = ROOT_DIR / 'data' / 'data0004' / 'lmdb'\n",
    "\n",
    "class cfg:\n",
    "    input_size = 3\n",
    "    output_size = 1\n",
    "    img_h = 512\n",
    "    img_w = 768\n",
    "    heatmap_h = 128\n",
    "    heatmap_w = 196\n",
    "    sigma = 1"
   ]
  },
  {
   "cell_type": "code",
   "execution_count": 19,
   "metadata": {},
   "outputs": [],
   "source": [
    "def tensor2arr(tensor_img):\n",
    "    if len(tensor_img.shape) == 2:\n",
    "        tensor_img = tensor_img.unsqueeze(0)\n",
    "    return tensor_img.permute(1, 2, 0).numpy() * np.array([0.2747, 0.2747, 0.2809]) + np.array([0.8578, 0.8552, 0.8507])"
   ]
  },
  {
   "cell_type": "code",
   "execution_count": 30,
   "metadata": {},
   "outputs": [],
   "source": [
    "def is_nan(value):\n",
    "    \"\"\"\n",
    "    Check if a value is NaN (not a number).\n",
    "\n",
    "    Args:\n",
    "        value (int, float, str): The value to check\n",
    "\n",
    "    Returns:\n",
    "        bool: True if the value is NaN, False otherwise\n",
    "    \"\"\"\n",
    "    return isinstance(value, float) and np.isnan(value)\n",
    "\n",
    "def round_float(value):\n",
    "    \"\"\"\n",
    "    Convert a float value to a string with the specified number of decimal places. \n",
    "    If there is more than 1 digit in the integer, then we will truncate to 1 decimal.\n",
    "    Otherwise, will truncate to 4 decimals.\n",
    "\n",
    "    Args:\n",
    "        value (int, float, str): The float value to convert\n",
    "\n",
    "    Returns:\n",
    "        str: The rounded float value as a string\n",
    "    \"\"\"\n",
    "    if isinstance(value, float):\n",
    "        value = str(value)\n",
    "\n",
    "        if \".\" in value:\n",
    "            integer, decimal = value.split(\".\")\n",
    "            if abs(float(integer)) > 1:\n",
    "                decimal = decimal[:1]\n",
    "            else:\n",
    "                decimal = decimal[:4]\n",
    "\n",
    "            value = integer + \".\" + decimal\n",
    "    return value"
   ]
  },
  {
   "cell_type": "code",
   "execution_count": 35,
   "metadata": {},
   "outputs": [],
   "source": [
    "# Lmdb Dataset\n",
    "class MgaLmdbDataset(Dataset):\n",
    "    def __init__(self, cfg, lmdb_dir, indices, transforms, output_hm=True):\n",
    "        super().__init__()\n",
    "        self.cfg = cfg\n",
    "        self.transforms = transforms\n",
    "        self.indices = indices\n",
    "        self.env = lmdb.open(str(lmdb_dir), max_readers=32,\n",
    "                             readonly=True, lock=False, readahead=False, meminit=False)\n",
    "        self.output_size = cfg.output_size\n",
    "        self.sigma = cfg.sigma\n",
    "        self.img_h, self.img_w = cfg.img_h, cfg.img_w\n",
    "        self.heatmap_h, self.heatmap_w = cfg.heatmap_h, cfg.heatmap_w\n",
    "        self.output_hm = output_hm\n",
    "        self.chart2point_name = {\n",
    "            'scatter': 'scatter points',\n",
    "            'line': 'lines',\n",
    "            'dot': 'dot points',\n",
    "            'vertical_bar': 'bars',\n",
    "            'horizontal_bar': 'bars',\n",
    "        }\n",
    "    \n",
    "    def _json_dict_to_gt_string(self, json_dict):\n",
    "        \"\"\"\n",
    "        Args:\n",
    "            json_dict (Dict[str, Any]): ターゲットのdict\n",
    "        Returns:\n",
    "            gt_string (str): 入力となるプロンプト\n",
    "        \"\"\"\n",
    "        all_x, all_y = [], []\n",
    "\n",
    "        for d in json_dict['data-series']:\n",
    "            x = d[\"x\"]\n",
    "            y = d[\"y\"]\n",
    "\n",
    "            x = round_float(x)\n",
    "            y = round_float(y)\n",
    "\n",
    "            # Ignore nan values\n",
    "            if is_nan(x) or is_nan(y):\n",
    "                continue\n",
    "\n",
    "            all_x.append(x)\n",
    "            all_y.append(y)\n",
    "\n",
    "        return list(map(str, all_x)), list(map(str, all_y))\n",
    "\n",
    "    def _overlap_heatmap(self, heatmap, center, sigma):\n",
    "        tmp_size = sigma * 6\n",
    "        mu_x = int(center[0] + 0.5)\n",
    "        mu_y = int(center[1] + 0.5)\n",
    "        w, h = heatmap.shape[0], heatmap.shape[1]\n",
    "        ul = [int(mu_x - tmp_size), int(mu_y - tmp_size)]\n",
    "        br = [int(mu_x + tmp_size + 1), int(mu_y + tmp_size + 1)]\n",
    "        if ul[0] >= h or ul[1] >= w or br[0] < 0 or br[1] < 0:\n",
    "            return heatmap\n",
    "        size = 2 * tmp_size + 1\n",
    "        x = np.arange(0, size, 1, np.float32)\n",
    "        y = x[:, np.newaxis]\n",
    "        x0 = y0 = size // 2\n",
    "        g = np.exp(- ((x - x0) ** 2 + (y - y0) ** 2) / (2 * sigma ** 2))\n",
    "        g_x = max(0, -ul[0]), min(br[0], h) - ul[0]\n",
    "        g_y = max(0, -ul[1]), min(br[1], w) - ul[1]\n",
    "        img_x = max(0, ul[0]), min(br[0], h)\n",
    "        img_y = max(0, ul[1]), min(br[1], w)\n",
    "        heatmap[img_y[0]:img_y[1], img_x[0]:img_x[1]] = np.maximum(\n",
    "            heatmap[img_y[0]:img_y[1], img_x[0]:img_x[1]],\n",
    "            g[g_y[0]:g_y[1], g_x[0]:g_x[1]])\n",
    "        return heatmap\n",
    "\n",
    "    def _create_heatmap(self, joints):\n",
    "        '''\n",
    "            joints: [(x1, y1), (x2, y2), ...]\n",
    "            heatmap: size: (hm_h, hm_w)\n",
    "        '''\n",
    "        heatmap = np.zeros((self.heatmap_h, self.heatmap_w), dtype=np.float32)\n",
    "        for joint_id in range(len(joints)):\n",
    "            heatmap = self._overlap_heatmap(\n",
    "                heatmap, joints[joint_id], self.sigma)\n",
    "        return heatmap\n",
    "\n",
    "    def _count_n_points(self, json_dict):\n",
    "        \"\"\"\n",
    "        Args:\n",
    "            json_dict (Dict[str, Any]): ターゲットのdict\n",
    "        Returns:\n",
    "            gt_string (str): 入力となるプロンプト\n",
    "        \"\"\"\n",
    "        n_points = 0\n",
    "\n",
    "        for d in json_dict['data-series']:\n",
    "            x = d[\"x\"]\n",
    "            y = d[\"y\"]\n",
    "            # Ignore nan values\n",
    "            if is_nan(x) or is_nan(y):\n",
    "                continue\n",
    "            n_points += 1\n",
    "\n",
    "        return n_points\n",
    "\n",
    "    def __len__(self):\n",
    "        return len(self.indices)\n",
    "\n",
    "    def __getitem__(self, idx):\n",
    "        idx = self.indices[idx]\n",
    "        with self.env.begin(write=False) as txn:\n",
    "            # load image\n",
    "            img_key = f'image-{str(idx+1).zfill(8)}'.encode()\n",
    "            imgbuf = txn.get(img_key)\n",
    "\n",
    "            # load json\n",
    "            label_key = f'label-{str(idx+1).zfill(8)}'.encode()\n",
    "            label = txn.get(label_key).decode('utf-8')\n",
    "\n",
    "        # image\n",
    "        buf = six.BytesIO()\n",
    "        buf.write(imgbuf)\n",
    "        buf.seek(0)\n",
    "        if self.cfg.input_size == 3:\n",
    "            img = np.array(Image.open(buf).convert('RGB'))\n",
    "        else:\n",
    "            img = np.array(Image.open(buf).convert('L'))\n",
    "        h, w, _ = img.shape\n",
    "\n",
    "        # label\n",
    "        json_dict = json.loads(label)\n",
    "        n_points = self._count_n_points(json_dict)\n",
    "        x_list, y_list = self._json_dict_to_gt_string(json_dict)\n",
    "\n",
    "        if self.output_hm:\n",
    "            chart_type = json_dict['chart-type']\n",
    "            point_name = self.chart2point_name[chart_type]\n",
    "\n",
    "            keypoints = []\n",
    "            for dic in json_dict['visual-elements'][point_name][0]:\n",
    "                x, y = dic['x'], dic['y']\n",
    "                if x < 0 or y < 0 or x > w or y > h:\n",
    "                    continue\n",
    "                keypoints.append([x, y])\n",
    "\n",
    "            transformed = self.transforms(image=img, keypoints=keypoints)\n",
    "            img = transformed['image']\n",
    "            img = torch.from_numpy(img).permute(2, 0, 1)\n",
    "            keypoints = transformed['keypoints']\n",
    "\n",
    "            if len(keypoints) != 0:\n",
    "                keypoints_on_hm = np.array(keypoints) * \\\n",
    "                    np.array([self.heatmap_w, self.heatmap_h]) / \\\n",
    "                    np.array([self.img_w, self.img_h])\n",
    "\n",
    "                heatmap = self._create_heatmap(keypoints_on_hm)\n",
    "            else:\n",
    "                heatmap = np.zeros((self.heatmap_h, self.heatmap_w))\n",
    "\n",
    "            heatmap = torch.from_numpy(heatmap)\n",
    "\n",
    "            return img, heatmap, n_points, [x_list, y_list]\n",
    "        else:\n",
    "            transformed = self.transforms(image=img)\n",
    "            img = transformed['image']\n",
    "            img = torch.from_numpy(img).permute(2, 0, 1)\n",
    "            return img, n_points"
   ]
  },
  {
   "cell_type": "code",
   "execution_count": 36,
   "metadata": {},
   "outputs": [],
   "source": [
    "def get_transforms():\n",
    "    return A.Compose([\n",
    "        A.Resize(512, 768),\n",
    "        A.Normalize([0.8578, 0.8552, 0.8507], [0.2747, 0.2747, 0.2809]),\n",
    "    ], keypoint_params=KeypointParams(format='xy'))"
   ]
  },
  {
   "cell_type": "code",
   "execution_count": 51,
   "metadata": {},
   "outputs": [],
   "source": [
    "ds = MgaLmdbDataset(cfg, LMDB_DIR, indices, get_transforms())"
   ]
  },
  {
   "cell_type": "code",
   "execution_count": 52,
   "metadata": {},
   "outputs": [],
   "source": [
    "img, hm, n_points, [xs, ys] = ds.__getitem__(4)"
   ]
  },
  {
   "cell_type": "code",
   "execution_count": 53,
   "metadata": {},
   "outputs": [
    {
     "name": "stderr",
     "output_type": "stream",
     "text": [
      "Clipping input data to the valid range for imshow with RGB data ([0..1] for floats or [0..255] for integers).\n"
     ]
    },
    {
     "data": {
      "text/plain": [
       "<matplotlib.image.AxesImage at 0x33ad39030>"
      ]
     },
     "execution_count": 53,
     "metadata": {},
     "output_type": "execute_result"
    },
    {
     "data": {
      "image/png": "[encoded data removed]",
      "text/plain": [
       "<Figure size 640x480 with 1 Axes>"
      ]
     },
     "metadata": {},
     "output_type": "display_data"
    }
   ],
   "source": [
    "plt.imshow(tensor2arr(img))"
   ]
  },
  {
   "cell_type": "code",
   "execution_count": 54,
   "metadata": {},
   "outputs": [
    {
     "data": {
      "text/plain": [
       "<matplotlib.image.AxesImage at 0x33ada4430>"
      ]
     },
     "execution_count": 54,
     "metadata": {},
     "output_type": "execute_result"
    },
    {
     "data": {
      "image/png": "[encoded data removed]",
      "text/plain": [
       "<Figure size 640x480 with 1 Axes>"
      ]
     },
     "metadata": {},
     "output_type": "display_data"
    }
   ],
   "source": [
    "plt.imshow(hm)"
   ]
  },
  {
   "cell_type": "code",
   "execution_count": 55,
   "metadata": {},
   "outputs": [],
   "source": [
    "# n_correct = 0\n",
    "# for i in trange(len(indices)):\n",
    "#     img, hm, n_points, _ = ds.__getitem__(i)\n",
    "#     if torch.sum(hm > 0.7) == n_points:\n",
    "#         n_correct += 1\n",
    "# print(n_correct / len(indices))"
   ]
  },
  {
   "cell_type": "code",
   "execution_count": 56,
   "metadata": {},
   "outputs": [],
   "source": [
    "h, w = hm.shape\n",
    "pre_arr = np.ones_like(hm) * 100\n",
    "pad = 1\n",
    "y_pred_pad = np.pad(hm, ((pad, pad), (pad, pad)))\n",
    "for y in range(pad, h+pad):\n",
    "    for x in range(pad, w+pad):\n",
    "        # (x, y)が中心の3*3のカーネルで、中心の値が一番大きい時のみ通過\n",
    "        if not np.argmax(y_pred_pad[y-1:y+2, x-1:x+2]) == 4:\n",
    "            score = 0.0\n",
    "        else:\n",
    "            score = y_pred_pad[y, x]\n",
    "\n",
    "        pre_arr[y-pad, x-pad] = score"
   ]
  },
  {
   "cell_type": "code",
   "execution_count": 57,
   "metadata": {},
   "outputs": [
    {
     "data": {
      "text/plain": [
       "<matplotlib.image.AxesImage at 0x33a80f670>"
      ]
     },
     "execution_count": 57,
     "metadata": {},
     "output_type": "execute_result"
    },
    {
     "data": {
      "image/png": "[encoded data removed]",
      "text/plain": [
       "<Figure size 640x480 with 1 Axes>"
      ]
     },
     "metadata": {},
     "output_type": "display_data"
    }
   ],
   "source": [
    "plt.imshow(pre_arr)"
   ]
  },
  {
   "cell_type": "code",
   "execution_count": 58,
   "metadata": {},
   "outputs": [
    {
     "data": {
      "text/plain": [
       "(array([40, 44, 45, 45, 48, 48, 49, 51, 51, 55, 62, 68, 71, 73]),\n",
       " array([144, 135, 125, 154, 105, 116, 164,  96, 174,  86,  77,  67,  57,\n",
       "         47]))"
      ]
     },
     "execution_count": 58,
     "metadata": {},
     "output_type": "execute_result"
    }
   ],
   "source": [
    "pre_arr.nonzero()"
   ]
  },
  {
   "cell_type": "code",
   "execution_count": null,
   "metadata": {},
   "outputs": [],
   "source": []
  },
  {
   "cell_type": "code",
   "execution_count": 59,
   "metadata": {},
   "outputs": [
    {
     "data": {
      "text/plain": [
       "(['1949.7',\n",
       "  '1954.6',\n",
       "  '1959.7',\n",
       "  '1964.8',\n",
       "  '1969.8',\n",
       "  '1974.5',\n",
       "  '1979.6',\n",
       "  '1984.8',\n",
       "  '1989.6',\n",
       "  '1994.7',\n",
       "  '1999.2',\n",
       "  '2004.6',\n",
       "  '2009.5',\n",
       "  '2014.6'],\n",
       " ['53.8',\n",
       "  '56.9',\n",
       "  '64.3',\n",
       "  '75.2',\n",
       "  '88.7',\n",
       "  '98.4',\n",
       "  '102.7',\n",
       "  '102.7',\n",
       "  '108.8',\n",
       "  '112.3',\n",
       "  '118.5',\n",
       "  '108.8',\n",
       "  '101.9',\n",
       "  '97.1'])"
      ]
     },
     "execution_count": 59,
     "metadata": {},
     "output_type": "execute_result"
    }
   ],
   "source": [
    "xs, ys"
   ]
  },
  {
   "cell_type": "code",
   "execution_count": null,
   "metadata": {},
   "outputs": [],
   "source": []
  },
  {
   "cell_type": "code",
   "execution_count": 231,
   "metadata": {},
   "outputs": [],
   "source": [
    "k_s = 5\n",
    "kernel = np.zeros((k_s, k_s))\n",
    "c = k_s // 2\n",
    "for x in range(k_s):\n",
    "    for y in range(k_s):\n",
    "        kernel[x][y] = np.exp(- ((x - c) ** 2 + (y - c) ** 2) / (2 * cfg.sigma ** 2))"
   ]
  },
  {
   "cell_type": "code",
   "execution_count": 232,
   "metadata": {},
   "outputs": [
    {
     "data": {
      "text/plain": [
       "<matplotlib.image.AxesImage at 0x13b5a7f10>"
      ]
     },
     "execution_count": 232,
     "metadata": {},
     "output_type": "execute_result"
    },
    {
     "data": {
      "image/png": "[encoded data removed]",
      "text/plain": [
       "<Figure size 640x480 with 1 Axes>"
      ]
     },
     "metadata": {},
     "output_type": "display_data"
    }
   ],
   "source": [
    "plt.imshow(kernel)"
   ]
  },
  {
   "cell_type": "code",
   "execution_count": 356,
   "metadata": {},
   "outputs": [],
   "source": [
    "pred_kernel = np.zeros((5, 5))\n",
    "pred_kernel[2, 2] = 1\n",
    "pred_kernel[4, 4] = 1"
   ]
  },
  {
   "cell_type": "code",
   "execution_count": 357,
   "metadata": {},
   "outputs": [
    {
     "data": {
      "text/plain": [
       "<matplotlib.image.AxesImage at 0x13b6d0190>"
      ]
     },
     "execution_count": 357,
     "metadata": {},
     "output_type": "execute_result"
    },
    {
     "data": {
      "image/png": "[encoded data removed]",
      "text/plain": [
       "<Figure size 640x480 with 1 Axes>"
      ]
     },
     "metadata": {},
     "output_type": "display_data"
    }
   ],
   "source": [
    "plt.imshow(pred_kernel)"
   ]
  },
  {
   "cell_type": "code",
   "execution_count": 358,
   "metadata": {},
   "outputs": [],
   "source": [
    "p = np.ones((5, 5))"
   ]
  },
  {
   "cell_type": "code",
   "execution_count": 359,
   "metadata": {},
   "outputs": [],
   "source": [
    "def calc_kl_divergence(pred_kernel, gt_kernel):\n",
    "    p = np.clip(pred_kernel.flatten(), 1e-7, 1.0)\n",
    "    p /= np.sum(p)\n",
    "    q = np.clip(gt_kernel.flatten(), 1e-7, 1.0)\n",
    "    q /= np.sum(q)\n",
    "    kl_div = np.sum(np.where(p != 0, p * np.log(p / q), 0))\n",
    "    return kl_div"
   ]
  },
  {
   "cell_type": "code",
   "execution_count": 360,
   "metadata": {},
   "outputs": [],
   "source": [
    "a = np.array([0.1, 0.3, 1., 0.3, 0.1])\n",
    "b = np.array([0., 0., 1., 0., 0.])"
   ]
  },
  {
   "cell_type": "code",
   "execution_count": 361,
   "metadata": {},
   "outputs": [
    {
     "data": {
      "text/plain": [
       "3.126357577275827"
      ]
     },
     "execution_count": 361,
     "metadata": {},
     "output_type": "execute_result"
    }
   ],
   "source": [
    "calc_kl_divergence(pred_kernel, kernel)"
   ]
  },
  {
   "cell_type": "code",
   "execution_count": 353,
   "metadata": {},
   "outputs": [
    {
     "data": {
      "text/plain": [
       "array([[0., 0., 0., 0., 0.],\n",
       "       [0., 0., 0., 0., 0.],\n",
       "       [0., 0., 1., 0., 0.],\n",
       "       [0., 0., 0., 0., 0.],\n",
       "       [0., 0., 0., 0., 0.]])"
      ]
     },
     "execution_count": 353,
     "metadata": {},
     "output_type": "execute_result"
    }
   ],
   "source": [
    "pred_kernel"
   ]
  },
  {
   "cell_type": "code",
   "execution_count": 422,
   "metadata": {},
   "outputs": [
    {
     "data": {
      "text/plain": [
       "array([[0.485, 0.485, 0.485, ..., 0.485, 0.485, 0.485],\n",
       "       [0.485, 0.485, 0.485, ..., 0.485, 0.485, 0.485],\n",
       "       [0.485, 0.485, 0.485, ..., 0.485, 0.485, 0.485],\n",
       "       ...,\n",
       "       [0.485, 0.485, 0.485, ..., 0.485, 0.485, 0.485],\n",
       "       [0.485, 0.485, 0.485, ..., 0.485, 0.485, 0.485],\n",
       "       [0.485, 0.485, 0.485, ..., 0.485, 0.485, 0.485]])"
      ]
     },
     "execution_count": 422,
     "metadata": {},
     "output_type": "execute_result"
    }
   ],
   "source": [
    "map"
   ]
  },
  {
   "cell_type": "code",
   "execution_count": 431,
   "metadata": {},
   "outputs": [],
   "source": [
    "h, w = hm.shape\n",
    "\n",
    "pad = 2\n",
    "pre_arr = np.ones_like(hm) * 100\n",
    "thr = 3.0\n",
    "\n",
    "def _calc_kl_divergence(pred_kernel, gt_kernel):\n",
    "    p = np.clip(pred_kernel.flatten(), 1e-7, 1.0)\n",
    "    p /= np.sum(p)\n",
    "    q = np.clip(gt_kernel.flatten(), 1e-7, 1.0)\n",
    "    q /= np.sum(q)\n",
    "    kl_div = np.sum(np.where(p != 0, p * np.log(p / q), 0))\n",
    "    return kl_div\n",
    "\n",
    "map_pad = np.pad(hm, ((pad, pad), (pad, pad)))\n",
    "\n",
    "counter = 0\n",
    "\n",
    "for y in range(pad, h+pad):\n",
    "    for x in range(pad, w+pad):\n",
    "        # (x, y)が中心の3*3のカーネルで、中心の値が一番大きい時のみ通過\n",
    "        if not np.argmax(map_pad[y-1:y+2, x-1:x+2]) == 4:\n",
    "            score = 100\n",
    "        else:\n",
    "            pred_kernel = map_pad[y-pad:y+pad+1, x-pad:x+pad+1]\n",
    "            score = _calc_kl_divergence(\n",
    "                pred_kernel, kernel)\n",
    "\n",
    "        pre_arr[y-2, x-2] = score\n",
    "\n",
    "        if score < thr:\n",
    "            counter += 1"
   ]
  },
  {
   "cell_type": "code",
   "execution_count": 432,
   "metadata": {},
   "outputs": [
    {
     "data": {
      "text/plain": [
       "array([[0., 0., 0., ..., 0., 0., 0.],\n",
       "       [0., 0., 0., ..., 0., 0., 0.],\n",
       "       [0., 0., 0., ..., 0., 0., 0.],\n",
       "       ...,\n",
       "       [0., 0., 0., ..., 0., 0., 0.],\n",
       "       [0., 0., 0., ..., 0., 0., 0.],\n",
       "       [0., 0., 0., ..., 0., 0., 0.]], dtype=float32)"
      ]
     },
     "execution_count": 432,
     "metadata": {},
     "output_type": "execute_result"
    }
   ],
   "source": [
    "map_pad"
   ]
  },
  {
   "cell_type": "code",
   "execution_count": 433,
   "metadata": {},
   "outputs": [
    {
     "data": {
      "text/plain": [
       "<matplotlib.image.AxesImage at 0x13bfa1300>"
      ]
     },
     "execution_count": 433,
     "metadata": {},
     "output_type": "execute_result"
    },
    {
     "data": {
      "image/png": "[encoded data removed]",
      "text/plain": [
       "<Figure size 640x480 with 1 Axes>"
      ]
     },
     "metadata": {},
     "output_type": "display_data"
    }
   ],
   "source": [
    "plt.imshow(hm)"
   ]
  },
  {
   "cell_type": "code",
   "execution_count": 434,
   "metadata": {},
   "outputs": [
    {
     "data": {
      "text/plain": [
       "array([[100., 100., 100., ..., 100., 100., 100.],\n",
       "       [100., 100., 100., ..., 100., 100., 100.],\n",
       "       [100., 100., 100., ..., 100., 100., 100.],\n",
       "       ...,\n",
       "       [100., 100., 100., ..., 100., 100., 100.],\n",
       "       [100., 100., 100., ..., 100., 100., 100.],\n",
       "       [100., 100., 100., ..., 100., 100., 100.]], dtype=float32)"
      ]
     },
     "execution_count": 434,
     "metadata": {},
     "output_type": "execute_result"
    }
   ],
   "source": [
    "pre_arr"
   ]
  },
  {
   "cell_type": "code",
   "execution_count": 435,
   "metadata": {},
   "outputs": [
    {
     "data": {
      "text/plain": [
       "14"
      ]
     },
     "execution_count": 435,
     "metadata": {},
     "output_type": "execute_result"
    }
   ],
   "source": [
    "counter"
   ]
  },
  {
   "cell_type": "code",
   "execution_count": 436,
   "metadata": {},
   "outputs": [
    {
     "data": {
      "text/plain": [
       "<matplotlib.image.AxesImage at 0x13c002aa0>"
      ]
     },
     "execution_count": 436,
     "metadata": {},
     "output_type": "execute_result"
    },
    {
     "data": {
      "image/png": "[encoded data removed]",
      "text/plain": [
       "<Figure size 640x480 with 1 Axes>"
      ]
     },
     "metadata": {},
     "output_type": "display_data"
    }
   ],
   "source": [
    "plt.imshow(pre_arr)"
   ]
  },
  {
   "cell_type": "code",
   "execution_count": 438,
   "metadata": {},
   "outputs": [
    {
     "data": {
      "text/plain": [
       "-1.0710209e-07"
      ]
     },
     "execution_count": 438,
     "metadata": {},
     "output_type": "execute_result"
    }
   ],
   "source": [
    "np.min(pre_arr)"
   ]
  },
  {
   "cell_type": "code",
   "execution_count": 392,
   "metadata": {},
   "outputs": [
    {
     "data": {
      "text/plain": [
       "tensor([], size=(0, 128))"
      ]
     },
     "execution_count": 392,
     "metadata": {},
     "output_type": "execute_result"
    }
   ],
   "source": [
    "hm[y-1:y+1][x-1:x+1]"
   ]
  },
  {
   "cell_type": "code",
   "execution_count": 375,
   "metadata": {},
   "outputs": [
    {
     "data": {
      "text/plain": [
       "(80, 128, 3)"
      ]
     },
     "execution_count": 375,
     "metadata": {},
     "output_type": "execute_result"
    }
   ],
   "source": [
    "hm.shape"
   ]
  },
  {
   "cell_type": "code",
   "execution_count": 1,
   "metadata": {},
   "outputs": [
    {
     "ename": "NameError",
     "evalue": "name 'hm' is not defined",
     "output_type": "error",
     "traceback": [
      "\u001b[0;31m---------------------------------------------------------------------------\u001b[0m",
      "\u001b[0;31mNameError\u001b[0m                                 Traceback (most recent call last)",
      "Cell \u001b[0;32mIn[1], line 1\u001b[0m\n\u001b[0;32m----> 1\u001b[0m hm\n",
      "\u001b[0;31mNameError\u001b[0m: name 'hm' is not defined"
     ]
    }
   ],
   "source": [
    "hm"
   ]
  },
  {
   "cell_type": "code",
   "execution_count": null,
   "metadata": {},
   "outputs": [],
   "source": []
  }
 ],
 "metadata": {
  "kernelspec": {
   "display_name": "mga-RYrVM4UM",
   "language": "python",
   "name": "python3"
  },
  "language_info": {
   "codemirror_mode": {
    "name": "ipython",
    "version": 3
   },
   "file_extension": ".py",
   "mimetype": "text/x-python",
   "name": "python",
   "nbconvert_exporter": "python",
   "pygments_lexer": "ipython3",
   "version": "3.10.9"
  },
  "orig_nbformat": 4
 },
 "nbformat": 4,
 "nbformat_minor": 2
}
