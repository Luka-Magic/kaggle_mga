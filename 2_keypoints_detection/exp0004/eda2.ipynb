{
 "cells": [
  {
   "cell_type": "code",
   "execution_count": 169,
   "metadata": {},
   "outputs": [],
   "source": [
    "import numpy as np\n",
    "import lmdb\n",
    "import numpy as np\n",
    "import torch\n",
    "import six\n",
    "from torch.utils.data import Dataset\n",
    "import json\n",
    "from PIL import Image\n",
    "\n",
    "import matplotlib.pyplot as plt\n",
    "from pathlib import Path\n",
    "import cv2\n",
    "from tqdm import trange\n",
    "\n",
    "import albumentations as A\n",
    "from albumentations import KeypointParams\n",
    "from albumentations.pytorch import ToTensorV2"
   ]
  },
  {
   "cell_type": "code",
   "execution_count": 9,
   "metadata": {},
   "outputs": [
    {
     "data": {
      "text/plain": [
       "PosixPath('/Users/nakagawaayato/compe/kaggle/mga')"
      ]
     },
     "execution_count": 9,
     "metadata": {},
     "output_type": "execute_result"
    }
   ],
   "source": [
    "Path().cwd().parents[2]"
   ]
  },
  {
   "cell_type": "code",
   "execution_count": 71,
   "metadata": {},
   "outputs": [],
   "source": [
    "# indices\n",
    "env = lmdb.open(str(ROOT_DIR / 'data' / 'data0004' / 'lmdb'), max_readers=32, readonly=True, lock=False, readahead=False, meminit=False)\n",
    "with env.begin(write=False) as txn:\n",
    "    n_samples = int(txn.get('num-samples'.encode()))\n",
    "\n",
    "indices = []\n",
    "with env.begin(write=False) as txn:\n",
    "    for i in range(n_samples):\n",
    "        # load json\n",
    "        label_key = f'label-{str(i+1).zfill(8)}'.encode()\n",
    "        label = txn.get(label_key).decode('utf-8')\n",
    "        json_dict = json.loads(label)\n",
    "        if json_dict['chart-type'] != 'scatter':\n",
    "            continue\n",
    "        indices.append(i)"
   ]
  },
  {
   "cell_type": "code",
   "execution_count": 91,
   "metadata": {},
   "outputs": [],
   "source": [
    "ROOT_DIR = Path().cwd().parents[2]\n",
    "LMDB_DIR = ROOT_DIR / 'data' / 'data0004' / 'lmdb'\n",
    "\n",
    "class cfg:\n",
    "    input_size = 3\n",
    "    output_size = 1\n",
    "    img_h = 300\n",
    "    img_w = 500\n",
    "    heatmap_h = 80\n",
    "    heatmap_w = 128\n",
    "    sigma = 1"
   ]
  },
  {
   "cell_type": "code",
   "execution_count": 92,
   "metadata": {},
   "outputs": [],
   "source": [
    "def tensor2arr(tensor_img):\n",
    "    if len(tensor_img.shape) == 2:\n",
    "        tensor_img = tensor_img.unsqueeze(0)\n",
    "    return tensor_img.permute(1, 2, 0).numpy() * np.array([0.229, 0.224, 0.225]) + np.array([0.485, 0.456, 0.406])"
   ]
  },
  {
   "cell_type": "code",
   "execution_count": 156,
   "metadata": {},
   "outputs": [],
   "source": [
    "def is_nan(value):\n",
    "    \"\"\"\n",
    "    Check if a value is NaN (not a number).\n",
    "\n",
    "    Args:\n",
    "        value (int, float, str): The value to check\n",
    "\n",
    "    Returns:\n",
    "        bool: True if the value is NaN, False otherwise\n",
    "    \"\"\"\n",
    "    return isinstance(value, float) and np.isnan(value)"
   ]
  },
  {
   "cell_type": "code",
   "execution_count": 157,
   "metadata": {},
   "outputs": [],
   "source": [
    "# Lmdb Dataset\n",
    "class MgaLmdbDataset(Dataset):\n",
    "    def __init__(self, cfg, lmdb_dir, indices, transforms):\n",
    "        super().__init__()\n",
    "        self.cfg = cfg\n",
    "        self.transforms = transforms\n",
    "        self.indices = indices\n",
    "        self.env = lmdb.open(str(lmdb_dir), max_readers=32, readonly=True, lock=False, readahead=False, meminit=False)\n",
    "        self.output_size = cfg.output_size\n",
    "        self.sigma = cfg.sigma\n",
    "        self.img_h, self.img_w = cfg.img_h, cfg.img_w\n",
    "        self.heatmap_h, self.heatmap_w = cfg.heatmap_h, cfg.heatmap_w\n",
    "        self.chart2point_name = {\n",
    "            'scatter': 'scatter points',\n",
    "            'line': 'lines',\n",
    "            'dot': 'dot points',\n",
    "            'vertical_bar': 'bars',\n",
    "            'horizontal_bar': 'bars',\n",
    "        }\n",
    "    def _overlap_heatmap(self, heatmap, center, sigma):\n",
    "        tmp_size = sigma * 6\n",
    "        mu_x = int(center[0] + 0.5)\n",
    "        mu_y = int(center[1] + 0.5)\n",
    "        w, h = heatmap.shape[0], heatmap.shape[1]\n",
    "        ul = [int(mu_x - tmp_size), int(mu_y - tmp_size)]\n",
    "        br = [int(mu_x + tmp_size + 1), int(mu_y + tmp_size + 1)]\n",
    "        if ul[0] >= h or ul[1] >= w or br[0] < 0 or br[1] < 0:\n",
    "            return heatmap\n",
    "        size = 2 * tmp_size + 1\n",
    "        x = np.arange(0, size, 1, np.float32)\n",
    "        y = x[:, np.newaxis]\n",
    "        x0 = y0 = size // 2\n",
    "        g = np.exp(- ((x - x0) ** 2 + (y - y0) ** 2) / (2 * sigma ** 2))\n",
    "        g_x = max(0, -ul[0]), min(br[0], h) - ul[0]\n",
    "        g_y = max(0, -ul[1]), min(br[1], w) - ul[1]\n",
    "        img_x = max(0, ul[0]), min(br[0], h)\n",
    "        img_y = max(0, ul[1]), min(br[1], w)\n",
    "        heatmap[img_y[0]:img_y[1], img_x[0]:img_x[1]] = np.maximum(\n",
    "        heatmap[img_y[0]:img_y[1], img_x[0]:img_x[1]],\n",
    "        g[g_y[0]:g_y[1], g_x[0]:g_x[1]])\n",
    "        return heatmap\n",
    "\n",
    "    def _create_heatmap(self, joints):\n",
    "        '''\n",
    "            joints: [(x1, y1), (x2, y2), ...]\n",
    "            heatmap: size: (hm_h, hm_w)\n",
    "        '''\n",
    "        heatmap = np.zeros((self.heatmap_h, self.heatmap_w), dtype=np.float32)\n",
    "        for joint_id in range(len(joints)):\n",
    "            heatmap = self._overlap_heatmap(heatmap, joints[joint_id], self.sigma)\n",
    "        return heatmap\n",
    "\n",
    "    def _count_n_points(self, json_dict):\n",
    "        \"\"\"\n",
    "        Args:\n",
    "            json_dict (Dict[str, Any]): ターゲットのdict\n",
    "        Returns:\n",
    "            gt_string (str): 入力となるプロンプト\n",
    "        \"\"\"\n",
    "        n_points = 0\n",
    "\n",
    "        for d in json_dict['data-series']:\n",
    "            x = d[\"x\"]\n",
    "            y = d[\"y\"]\n",
    "            # Ignore nan values\n",
    "            if is_nan(x) or is_nan(y):\n",
    "                continue\n",
    "            n_points += 1\n",
    "        \n",
    "        return n_points\n",
    "\n",
    "    def __len__(self):\n",
    "        return len(self.indices)\n",
    "    \n",
    "    def __getitem__(self, idx):\n",
    "        idx = self.indices[idx]\n",
    "        with self.env.begin(write=False) as txn:\n",
    "            # load image\n",
    "            img_key = f'image-{str(idx+1).zfill(8)}'.encode()\n",
    "            imgbuf = txn.get(img_key)\n",
    "\n",
    "            # load json\n",
    "            label_key = f'label-{str(idx+1).zfill(8)}'.encode()\n",
    "            label = txn.get(label_key).decode('utf-8')\n",
    "        \n",
    "        # image\n",
    "        buf = six.BytesIO()\n",
    "        buf.write(imgbuf)\n",
    "        buf.seek(0)\n",
    "        if self.cfg.input_size == 3:\n",
    "            img = np.array(Image.open(buf).convert('RGB'))\n",
    "        else:\n",
    "            img = np.array(Image.open(buf).convert('L'))\n",
    "        h, w, _ = img.shape\n",
    "        \n",
    "        # label\n",
    "        json_dict = json.loads(label)\n",
    "        chart_type = json_dict['chart-type']\n",
    "        point_name = self.chart2point_name[chart_type]\n",
    "\n",
    "        keypoints = []\n",
    "        for dic in json_dict['visual-elements'][point_name][0]:\n",
    "            x, y = dic['x'], dic['y']\n",
    "            if x < 0 or y < 0 or x > w or y > h:\n",
    "                continue\n",
    "            keypoints.append([x, y])\n",
    "\n",
    "        # kp_arr = np.array(keypoints)\n",
    "        # kp_min = np.amin(kp_arr, 0)\n",
    "        # if kp_min[0] < 0 or kp_min[1] < 0:\n",
    "        #     # print(keypoints)\n",
    "        #     print(json_dict['id'])\n",
    "\n",
    "        transformed = self.transforms(image=img, keypoints=keypoints)\n",
    "        img = transformed['image']\n",
    "        keypoints = transformed['keypoints']\n",
    "        \n",
    "        if len(keypoints) != 0:\n",
    "            keypoints_on_hm = np.array(keypoints) * \\\n",
    "                np.array([self.heatmap_w, self.heatmap_h]) / np.array([self.img_w, self.img_h])\n",
    "\n",
    "            heatmap = self._create_heatmap(keypoints_on_hm)\n",
    "        else:\n",
    "            heatmap = np.zeros((self.heatmap_h, self.heatmap_w))\n",
    "        img = torch.from_numpy(img).permute(2, 0, 1)\n",
    "        heatmap = torch.from_numpy(heatmap)\n",
    "\n",
    "        n_points = self._count_n_points(json_dict)\n",
    "\n",
    "        return img, heatmap, n_points"
   ]
  },
  {
   "cell_type": "code",
   "execution_count": 158,
   "metadata": {},
   "outputs": [],
   "source": [
    "def get_transforms():\n",
    "    return A.Compose([\n",
    "        A.Resize(300, 500),\n",
    "        A.Normalize([0.485, 0.456, 0.406], [0.229, 0.224, 0.225]),\n",
    "    ], keypoint_params=KeypointParams(format='xy'))"
   ]
  },
  {
   "cell_type": "code",
   "execution_count": 415,
   "metadata": {},
   "outputs": [],
   "source": [
    "ds = MgaLmdbDataset(cfg, LMDB_DIR, indices, get_transforms())"
   ]
  },
  {
   "cell_type": "code",
   "execution_count": 416,
   "metadata": {},
   "outputs": [],
   "source": [
    "img, hm, n_points = ds.__getitem__(4)"
   ]
  },
  {
   "cell_type": "code",
   "execution_count": 417,
   "metadata": {},
   "outputs": [
    {
     "name": "stderr",
     "output_type": "stream",
     "text": [
      "Clipping input data to the valid range for imshow with RGB data ([0..1] for floats or [0..255] for integers).\n"
     ]
    },
    {
     "data": {
      "text/plain": [
       "<matplotlib.image.AxesImage at 0x13bda6c50>"
      ]
     },
     "execution_count": 417,
     "metadata": {},
     "output_type": "execute_result"
    },
    {
     "data": {
      "image/png": "[encoded data removed]",
      "text/plain": [
       "<Figure size 640x480 with 1 Axes>"
      ]
     },
     "metadata": {},
     "output_type": "display_data"
    }
   ],
   "source": [
    "plt.imshow(tensor2arr(img))"
   ]
  },
  {
   "cell_type": "code",
   "execution_count": 418,
   "metadata": {},
   "outputs": [
    {
     "data": {
      "text/plain": [
       "<matplotlib.image.AxesImage at 0x13be14f40>"
      ]
     },
     "execution_count": 418,
     "metadata": {},
     "output_type": "execute_result"
    },
    {
     "data": {
      "image/png": "[encoded data removed]",
      "text/plain": [
       "<Figure size 640x480 with 1 Axes>"
      ]
     },
     "metadata": {},
     "output_type": "display_data"
    }
   ],
   "source": [
    "plt.imshow(tensor2arr(hm))"
   ]
  },
  {
   "cell_type": "code",
   "execution_count": 230,
   "metadata": {},
   "outputs": [
    {
     "name": "stderr",
     "output_type": "stream",
     "text": [
      "100%|██████████| 11243/11243 [00:36<00:00, 304.35it/s]"
     ]
    },
    {
     "name": "stdout",
     "output_type": "stream",
     "text": [
      "0.9973316730410033\n"
     ]
    },
    {
     "name": "stderr",
     "output_type": "stream",
     "text": [
      "\n"
     ]
    }
   ],
   "source": [
    "n_correct = 0\n",
    "for i in trange(len(indices)):\n",
    "    img, hm, n_points = ds.__getitem__(i)\n",
    "    if torch.sum(hm > 0.7) == n_points:\n",
    "        n_correct += 1\n",
    "print(n_correct / len(indices))"
   ]
  },
  {
   "cell_type": "code",
   "execution_count": 231,
   "metadata": {},
   "outputs": [],
   "source": [
    "k_s = 5\n",
    "kernel = np.zeros((k_s, k_s))\n",
    "c = k_s // 2\n",
    "for x in range(k_s):\n",
    "    for y in range(k_s):\n",
    "        kernel[x][y] = np.exp(- ((x - c) ** 2 + (y - c) ** 2) / (2 * cfg.sigma ** 2))"
   ]
  },
  {
   "cell_type": "code",
   "execution_count": 232,
   "metadata": {},
   "outputs": [
    {
     "data": {
      "text/plain": [
       "<matplotlib.image.AxesImage at 0x13b5a7f10>"
      ]
     },
     "execution_count": 232,
     "metadata": {},
     "output_type": "execute_result"
    },
    {
     "data": {
      "image/png": "[encoded data removed]",
      "text/plain": [
       "<Figure size 640x480 with 1 Axes>"
      ]
     },
     "metadata": {},
     "output_type": "display_data"
    }
   ],
   "source": [
    "plt.imshow(kernel)"
   ]
  },
  {
   "cell_type": "code",
   "execution_count": 356,
   "metadata": {},
   "outputs": [],
   "source": [
    "pred_kernel = np.zeros((5, 5))\n",
    "pred_kernel[2, 2] = 1\n",
    "pred_kernel[4, 4] = 1"
   ]
  },
  {
   "cell_type": "code",
   "execution_count": 357,
   "metadata": {},
   "outputs": [
    {
     "data": {
      "text/plain": [
       "<matplotlib.image.AxesImage at 0x13b6d0190>"
      ]
     },
     "execution_count": 357,
     "metadata": {},
     "output_type": "execute_result"
    },
    {
     "data": {
      "image/png": "[encoded data removed]",
      "text/plain": [
       "<Figure size 640x480 with 1 Axes>"
      ]
     },
     "metadata": {},
     "output_type": "display_data"
    }
   ],
   "source": [
    "plt.imshow(pred_kernel)"
   ]
  },
  {
   "cell_type": "code",
   "execution_count": 358,
   "metadata": {},
   "outputs": [],
   "source": [
    "p = np.ones((5, 5))"
   ]
  },
  {
   "cell_type": "code",
   "execution_count": 359,
   "metadata": {},
   "outputs": [],
   "source": [
    "def calc_kl_divergence(pred_kernel, gt_kernel):\n",
    "    p = np.clip(pred_kernel.flatten(), 1e-7, 1.0)\n",
    "    p /= np.sum(p)\n",
    "    q = np.clip(gt_kernel.flatten(), 1e-7, 1.0)\n",
    "    q /= np.sum(q)\n",
    "    kl_div = np.sum(np.where(p != 0, p * np.log(p / q), 0))\n",
    "    return kl_div"
   ]
  },
  {
   "cell_type": "code",
   "execution_count": 360,
   "metadata": {},
   "outputs": [],
   "source": [
    "a = np.array([0.1, 0.3, 1., 0.3, 0.1])\n",
    "b = np.array([0., 0., 1., 0., 0.])"
   ]
  },
  {
   "cell_type": "code",
   "execution_count": 361,
   "metadata": {},
   "outputs": [
    {
     "data": {
      "text/plain": [
       "3.126357577275827"
      ]
     },
     "execution_count": 361,
     "metadata": {},
     "output_type": "execute_result"
    }
   ],
   "source": [
    "calc_kl_divergence(pred_kernel, kernel)"
   ]
  },
  {
   "cell_type": "code",
   "execution_count": 353,
   "metadata": {},
   "outputs": [
    {
     "data": {
      "text/plain": [
       "array([[0., 0., 0., 0., 0.],\n",
       "       [0., 0., 0., 0., 0.],\n",
       "       [0., 0., 1., 0., 0.],\n",
       "       [0., 0., 0., 0., 0.],\n",
       "       [0., 0., 0., 0., 0.]])"
      ]
     },
     "execution_count": 353,
     "metadata": {},
     "output_type": "execute_result"
    }
   ],
   "source": [
    "pred_kernel"
   ]
  },
  {
   "cell_type": "code",
   "execution_count": 422,
   "metadata": {},
   "outputs": [
    {
     "data": {
      "text/plain": [
       "array([[0.485, 0.485, 0.485, ..., 0.485, 0.485, 0.485],\n",
       "       [0.485, 0.485, 0.485, ..., 0.485, 0.485, 0.485],\n",
       "       [0.485, 0.485, 0.485, ..., 0.485, 0.485, 0.485],\n",
       "       ...,\n",
       "       [0.485, 0.485, 0.485, ..., 0.485, 0.485, 0.485],\n",
       "       [0.485, 0.485, 0.485, ..., 0.485, 0.485, 0.485],\n",
       "       [0.485, 0.485, 0.485, ..., 0.485, 0.485, 0.485]])"
      ]
     },
     "execution_count": 422,
     "metadata": {},
     "output_type": "execute_result"
    }
   ],
   "source": [
    "map"
   ]
  },
  {
   "cell_type": "code",
   "execution_count": 431,
   "metadata": {},
   "outputs": [],
   "source": [
    "h, w = hm.shape\n",
    "\n",
    "pad = 2\n",
    "pre_arr = np.ones_like(hm) * 100\n",
    "thr = 3.0\n",
    "\n",
    "def _calc_kl_divergence(pred_kernel, gt_kernel):\n",
    "    p = np.clip(pred_kernel.flatten(), 1e-7, 1.0)\n",
    "    p /= np.sum(p)\n",
    "    q = np.clip(gt_kernel.flatten(), 1e-7, 1.0)\n",
    "    q /= np.sum(q)\n",
    "    kl_div = np.sum(np.where(p != 0, p * np.log(p / q), 0))\n",
    "    return kl_div\n",
    "\n",
    "map_pad = np.pad(hm, ((pad, pad), (pad, pad)))\n",
    "\n",
    "counter = 0\n",
    "\n",
    "for y in range(pad, h+pad):\n",
    "    for x in range(pad, w+pad):\n",
    "        # (x, y)が中心の3*3のカーネルで、中心の値が一番大きい時のみ通過\n",
    "        if not np.argmax(map_pad[y-1:y+2, x-1:x+2]) == 4:\n",
    "            score = 100\n",
    "        else:\n",
    "            pred_kernel = map_pad[y-pad:y+pad+1, x-pad:x+pad+1]\n",
    "            score = _calc_kl_divergence(\n",
    "                pred_kernel, kernel)\n",
    "\n",
    "        pre_arr[y-2, x-2] = score\n",
    "\n",
    "        if score < thr:\n",
    "            counter += 1"
   ]
  },
  {
   "cell_type": "code",
   "execution_count": 432,
   "metadata": {},
   "outputs": [
    {
     "data": {
      "text/plain": [
       "array([[0., 0., 0., ..., 0., 0., 0.],\n",
       "       [0., 0., 0., ..., 0., 0., 0.],\n",
       "       [0., 0., 0., ..., 0., 0., 0.],\n",
       "       ...,\n",
       "       [0., 0., 0., ..., 0., 0., 0.],\n",
       "       [0., 0., 0., ..., 0., 0., 0.],\n",
       "       [0., 0., 0., ..., 0., 0., 0.]], dtype=float32)"
      ]
     },
     "execution_count": 432,
     "metadata": {},
     "output_type": "execute_result"
    }
   ],
   "source": [
    "map_pad"
   ]
  },
  {
   "cell_type": "code",
   "execution_count": 433,
   "metadata": {},
   "outputs": [
    {
     "data": {
      "text/plain": [
       "<matplotlib.image.AxesImage at 0x13bfa1300>"
      ]
     },
     "execution_count": 433,
     "metadata": {},
     "output_type": "execute_result"
    },
    {
     "data": {
      "image/png": "[encoded data removed]",
      "text/plain": [
       "<Figure size 640x480 with 1 Axes>"
      ]
     },
     "metadata": {},
     "output_type": "display_data"
    }
   ],
   "source": [
    "plt.imshow(hm)"
   ]
  },
  {
   "cell_type": "code",
   "execution_count": 434,
   "metadata": {},
   "outputs": [
    {
     "data": {
      "text/plain": [
       "array([[100., 100., 100., ..., 100., 100., 100.],\n",
       "       [100., 100., 100., ..., 100., 100., 100.],\n",
       "       [100., 100., 100., ..., 100., 100., 100.],\n",
       "       ...,\n",
       "       [100., 100., 100., ..., 100., 100., 100.],\n",
       "       [100., 100., 100., ..., 100., 100., 100.],\n",
       "       [100., 100., 100., ..., 100., 100., 100.]], dtype=float32)"
      ]
     },
     "execution_count": 434,
     "metadata": {},
     "output_type": "execute_result"
    }
   ],
   "source": [
    "pre_arr"
   ]
  },
  {
   "cell_type": "code",
   "execution_count": 435,
   "metadata": {},
   "outputs": [
    {
     "data": {
      "text/plain": [
       "14"
      ]
     },
     "execution_count": 435,
     "metadata": {},
     "output_type": "execute_result"
    }
   ],
   "source": [
    "counter"
   ]
  },
  {
   "cell_type": "code",
   "execution_count": 436,
   "metadata": {},
   "outputs": [
    {
     "data": {
      "text/plain": [
       "<matplotlib.image.AxesImage at 0x13c002aa0>"
      ]
     },
     "execution_count": 436,
     "metadata": {},
     "output_type": "execute_result"
    },
    {
     "data": {
      "image/png": "[encoded data removed]",
      "text/plain": [
       "<Figure size 640x480 with 1 Axes>"
      ]
     },
     "metadata": {},
     "output_type": "display_data"
    }
   ],
   "source": [
    "plt.imshow(pre_arr)"
   ]
  },
  {
   "cell_type": "code",
   "execution_count": 438,
   "metadata": {},
   "outputs": [
    {
     "data": {
      "text/plain": [
       "-1.0710209e-07"
      ]
     },
     "execution_count": 438,
     "metadata": {},
     "output_type": "execute_result"
    }
   ],
   "source": [
    "np.min(pre_arr)"
   ]
  },
  {
   "cell_type": "code",
   "execution_count": 392,
   "metadata": {},
   "outputs": [
    {
     "data": {
      "text/plain": [
       "tensor([], size=(0, 128))"
      ]
     },
     "execution_count": 392,
     "metadata": {},
     "output_type": "execute_result"
    }
   ],
   "source": [
    "hm[y-1:y+1][x-1:x+1]"
   ]
  },
  {
   "cell_type": "code",
   "execution_count": 375,
   "metadata": {},
   "outputs": [
    {
     "data": {
      "text/plain": [
       "(80, 128, 3)"
      ]
     },
     "execution_count": 375,
     "metadata": {},
     "output_type": "execute_result"
    }
   ],
   "source": [
    "hm.shape"
   ]
  },
  {
   "cell_type": "code",
   "execution_count": 442,
   "metadata": {},
   "outputs": [
    {
     "name": "stdout",
     "output_type": "stream",
     "text": [
      "Collecting torchsummary\n",
      "  Downloading torchsummary-1.5.1-py3-none-any.whl (2.8 kB)\n",
      "Installing collected packages: torchsummary\n",
      "Successfully installed torchsummary-1.5.1\n",
      "\n",
      "\u001b[1m[\u001b[0m\u001b[34;49mnotice\u001b[0m\u001b[1;39;49m]\u001b[0m\u001b[39;49m A new release of pip is available: \u001b[0m\u001b[31;49m23.0.1\u001b[0m\u001b[39;49m -> \u001b[0m\u001b[32;49m23.1.2\u001b[0m\n",
      "\u001b[1m[\u001b[0m\u001b[34;49mnotice\u001b[0m\u001b[1;39;49m]\u001b[0m\u001b[39;49m To update, run: \u001b[0m\u001b[32;49mpip install --upgrade pip\u001b[0m\n"
     ]
    }
   ],
   "source": [
    "!pip install torchsummary"
   ]
  },
  {
   "cell_type": "code",
   "execution_count": 443,
   "metadata": {},
   "outputs": [],
   "source": [
    "from pose_resnet import get_pose_net\n",
    "from torchsummary import summary\n",
    "model = get_pose_net(3)"
   ]
  },
  {
   "cell_type": "code",
   "execution_count": 445,
   "metadata": {},
   "outputs": [
    {
     "name": "stdout",
     "output_type": "stream",
     "text": [
      "----------------------------------------------------------------\n",
      "        Layer (type)               Output Shape         Param #\n",
      "================================================================\n",
      "            Conv2d-1         [-1, 64, 384, 256]           9,408\n",
      "       BatchNorm2d-2         [-1, 64, 384, 256]             128\n",
      "              ReLU-3         [-1, 64, 384, 256]               0\n",
      "         MaxPool2d-4         [-1, 64, 192, 128]               0\n",
      "            Conv2d-5         [-1, 64, 192, 128]           4,096\n",
      "       BatchNorm2d-6         [-1, 64, 192, 128]             128\n",
      "              ReLU-7         [-1, 64, 192, 128]               0\n",
      "            Conv2d-8         [-1, 64, 192, 128]          36,864\n",
      "       BatchNorm2d-9         [-1, 64, 192, 128]             128\n",
      "             ReLU-10         [-1, 64, 192, 128]               0\n",
      "           Conv2d-11        [-1, 256, 192, 128]          16,384\n",
      "      BatchNorm2d-12        [-1, 256, 192, 128]             512\n",
      "           Conv2d-13        [-1, 256, 192, 128]          16,384\n",
      "      BatchNorm2d-14        [-1, 256, 192, 128]             512\n",
      "             ReLU-15        [-1, 256, 192, 128]               0\n",
      "       Bottleneck-16        [-1, 256, 192, 128]               0\n",
      "           Conv2d-17         [-1, 64, 192, 128]          16,384\n",
      "      BatchNorm2d-18         [-1, 64, 192, 128]             128\n",
      "             ReLU-19         [-1, 64, 192, 128]               0\n",
      "           Conv2d-20         [-1, 64, 192, 128]          36,864\n",
      "      BatchNorm2d-21         [-1, 64, 192, 128]             128\n",
      "             ReLU-22         [-1, 64, 192, 128]               0\n",
      "           Conv2d-23        [-1, 256, 192, 128]          16,384\n",
      "      BatchNorm2d-24        [-1, 256, 192, 128]             512\n",
      "             ReLU-25        [-1, 256, 192, 128]               0\n",
      "       Bottleneck-26        [-1, 256, 192, 128]               0\n",
      "           Conv2d-27         [-1, 64, 192, 128]          16,384\n",
      "      BatchNorm2d-28         [-1, 64, 192, 128]             128\n",
      "             ReLU-29         [-1, 64, 192, 128]               0\n",
      "           Conv2d-30         [-1, 64, 192, 128]          36,864\n",
      "      BatchNorm2d-31         [-1, 64, 192, 128]             128\n",
      "             ReLU-32         [-1, 64, 192, 128]               0\n",
      "           Conv2d-33        [-1, 256, 192, 128]          16,384\n",
      "      BatchNorm2d-34        [-1, 256, 192, 128]             512\n",
      "             ReLU-35        [-1, 256, 192, 128]               0\n",
      "       Bottleneck-36        [-1, 256, 192, 128]               0\n",
      "           Conv2d-37        [-1, 128, 192, 128]          32,768\n",
      "      BatchNorm2d-38        [-1, 128, 192, 128]             256\n",
      "             ReLU-39        [-1, 128, 192, 128]               0\n",
      "           Conv2d-40          [-1, 128, 96, 64]         147,456\n",
      "      BatchNorm2d-41          [-1, 128, 96, 64]             256\n",
      "             ReLU-42          [-1, 128, 96, 64]               0\n",
      "           Conv2d-43          [-1, 512, 96, 64]          65,536\n",
      "      BatchNorm2d-44          [-1, 512, 96, 64]           1,024\n",
      "           Conv2d-45          [-1, 512, 96, 64]         131,072\n",
      "      BatchNorm2d-46          [-1, 512, 96, 64]           1,024\n",
      "             ReLU-47          [-1, 512, 96, 64]               0\n",
      "       Bottleneck-48          [-1, 512, 96, 64]               0\n",
      "           Conv2d-49          [-1, 128, 96, 64]          65,536\n",
      "      BatchNorm2d-50          [-1, 128, 96, 64]             256\n",
      "             ReLU-51          [-1, 128, 96, 64]               0\n",
      "           Conv2d-52          [-1, 128, 96, 64]         147,456\n",
      "      BatchNorm2d-53          [-1, 128, 96, 64]             256\n",
      "             ReLU-54          [-1, 128, 96, 64]               0\n",
      "           Conv2d-55          [-1, 512, 96, 64]          65,536\n",
      "      BatchNorm2d-56          [-1, 512, 96, 64]           1,024\n",
      "             ReLU-57          [-1, 512, 96, 64]               0\n",
      "       Bottleneck-58          [-1, 512, 96, 64]               0\n",
      "           Conv2d-59          [-1, 128, 96, 64]          65,536\n",
      "      BatchNorm2d-60          [-1, 128, 96, 64]             256\n",
      "             ReLU-61          [-1, 128, 96, 64]               0\n",
      "           Conv2d-62          [-1, 128, 96, 64]         147,456\n",
      "      BatchNorm2d-63          [-1, 128, 96, 64]             256\n",
      "             ReLU-64          [-1, 128, 96, 64]               0\n",
      "           Conv2d-65          [-1, 512, 96, 64]          65,536\n",
      "      BatchNorm2d-66          [-1, 512, 96, 64]           1,024\n",
      "             ReLU-67          [-1, 512, 96, 64]               0\n",
      "       Bottleneck-68          [-1, 512, 96, 64]               0\n",
      "           Conv2d-69          [-1, 128, 96, 64]          65,536\n",
      "      BatchNorm2d-70          [-1, 128, 96, 64]             256\n",
      "             ReLU-71          [-1, 128, 96, 64]               0\n",
      "           Conv2d-72          [-1, 128, 96, 64]         147,456\n",
      "      BatchNorm2d-73          [-1, 128, 96, 64]             256\n",
      "             ReLU-74          [-1, 128, 96, 64]               0\n",
      "           Conv2d-75          [-1, 512, 96, 64]          65,536\n",
      "      BatchNorm2d-76          [-1, 512, 96, 64]           1,024\n",
      "             ReLU-77          [-1, 512, 96, 64]               0\n",
      "       Bottleneck-78          [-1, 512, 96, 64]               0\n",
      "           Conv2d-79          [-1, 128, 96, 64]          65,536\n",
      "      BatchNorm2d-80          [-1, 128, 96, 64]             256\n",
      "             ReLU-81          [-1, 128, 96, 64]               0\n",
      "           Conv2d-82          [-1, 128, 96, 64]         147,456\n",
      "      BatchNorm2d-83          [-1, 128, 96, 64]             256\n",
      "             ReLU-84          [-1, 128, 96, 64]               0\n",
      "           Conv2d-85          [-1, 512, 96, 64]          65,536\n",
      "      BatchNorm2d-86          [-1, 512, 96, 64]           1,024\n",
      "             ReLU-87          [-1, 512, 96, 64]               0\n",
      "       Bottleneck-88          [-1, 512, 96, 64]               0\n",
      "           Conv2d-89          [-1, 128, 96, 64]          65,536\n",
      "      BatchNorm2d-90          [-1, 128, 96, 64]             256\n",
      "             ReLU-91          [-1, 128, 96, 64]               0\n",
      "           Conv2d-92          [-1, 128, 96, 64]         147,456\n",
      "      BatchNorm2d-93          [-1, 128, 96, 64]             256\n",
      "             ReLU-94          [-1, 128, 96, 64]               0\n",
      "           Conv2d-95          [-1, 512, 96, 64]          65,536\n",
      "      BatchNorm2d-96          [-1, 512, 96, 64]           1,024\n",
      "             ReLU-97          [-1, 512, 96, 64]               0\n",
      "       Bottleneck-98          [-1, 512, 96, 64]               0\n",
      "           Conv2d-99          [-1, 128, 96, 64]          65,536\n",
      "     BatchNorm2d-100          [-1, 128, 96, 64]             256\n",
      "            ReLU-101          [-1, 128, 96, 64]               0\n",
      "          Conv2d-102          [-1, 128, 96, 64]         147,456\n",
      "     BatchNorm2d-103          [-1, 128, 96, 64]             256\n",
      "            ReLU-104          [-1, 128, 96, 64]               0\n",
      "          Conv2d-105          [-1, 512, 96, 64]          65,536\n",
      "     BatchNorm2d-106          [-1, 512, 96, 64]           1,024\n",
      "            ReLU-107          [-1, 512, 96, 64]               0\n",
      "      Bottleneck-108          [-1, 512, 96, 64]               0\n",
      "          Conv2d-109          [-1, 128, 96, 64]          65,536\n",
      "     BatchNorm2d-110          [-1, 128, 96, 64]             256\n",
      "            ReLU-111          [-1, 128, 96, 64]               0\n",
      "          Conv2d-112          [-1, 128, 96, 64]         147,456\n",
      "     BatchNorm2d-113          [-1, 128, 96, 64]             256\n",
      "            ReLU-114          [-1, 128, 96, 64]               0\n",
      "          Conv2d-115          [-1, 512, 96, 64]          65,536\n",
      "     BatchNorm2d-116          [-1, 512, 96, 64]           1,024\n",
      "            ReLU-117          [-1, 512, 96, 64]               0\n",
      "      Bottleneck-118          [-1, 512, 96, 64]               0\n",
      "          Conv2d-119          [-1, 256, 96, 64]         131,072\n",
      "     BatchNorm2d-120          [-1, 256, 96, 64]             512\n",
      "            ReLU-121          [-1, 256, 96, 64]               0\n",
      "          Conv2d-122          [-1, 256, 48, 32]         589,824\n",
      "     BatchNorm2d-123          [-1, 256, 48, 32]             512\n",
      "            ReLU-124          [-1, 256, 48, 32]               0\n",
      "          Conv2d-125         [-1, 1024, 48, 32]         262,144\n",
      "     BatchNorm2d-126         [-1, 1024, 48, 32]           2,048\n",
      "          Conv2d-127         [-1, 1024, 48, 32]         524,288\n",
      "     BatchNorm2d-128         [-1, 1024, 48, 32]           2,048\n",
      "            ReLU-129         [-1, 1024, 48, 32]               0\n",
      "      Bottleneck-130         [-1, 1024, 48, 32]               0\n",
      "          Conv2d-131          [-1, 256, 48, 32]         262,144\n",
      "     BatchNorm2d-132          [-1, 256, 48, 32]             512\n",
      "            ReLU-133          [-1, 256, 48, 32]               0\n",
      "          Conv2d-134          [-1, 256, 48, 32]         589,824\n",
      "     BatchNorm2d-135          [-1, 256, 48, 32]             512\n",
      "            ReLU-136          [-1, 256, 48, 32]               0\n",
      "          Conv2d-137         [-1, 1024, 48, 32]         262,144\n",
      "     BatchNorm2d-138         [-1, 1024, 48, 32]           2,048\n",
      "            ReLU-139         [-1, 1024, 48, 32]               0\n",
      "      Bottleneck-140         [-1, 1024, 48, 32]               0\n",
      "          Conv2d-141          [-1, 256, 48, 32]         262,144\n",
      "     BatchNorm2d-142          [-1, 256, 48, 32]             512\n",
      "            ReLU-143          [-1, 256, 48, 32]               0\n",
      "          Conv2d-144          [-1, 256, 48, 32]         589,824\n",
      "     BatchNorm2d-145          [-1, 256, 48, 32]             512\n",
      "            ReLU-146          [-1, 256, 48, 32]               0\n",
      "          Conv2d-147         [-1, 1024, 48, 32]         262,144\n",
      "     BatchNorm2d-148         [-1, 1024, 48, 32]           2,048\n",
      "            ReLU-149         [-1, 1024, 48, 32]               0\n",
      "      Bottleneck-150         [-1, 1024, 48, 32]               0\n",
      "          Conv2d-151          [-1, 256, 48, 32]         262,144\n",
      "     BatchNorm2d-152          [-1, 256, 48, 32]             512\n",
      "            ReLU-153          [-1, 256, 48, 32]               0\n",
      "          Conv2d-154          [-1, 256, 48, 32]         589,824\n",
      "     BatchNorm2d-155          [-1, 256, 48, 32]             512\n",
      "            ReLU-156          [-1, 256, 48, 32]               0\n",
      "          Conv2d-157         [-1, 1024, 48, 32]         262,144\n",
      "     BatchNorm2d-158         [-1, 1024, 48, 32]           2,048\n",
      "            ReLU-159         [-1, 1024, 48, 32]               0\n",
      "      Bottleneck-160         [-1, 1024, 48, 32]               0\n",
      "          Conv2d-161          [-1, 256, 48, 32]         262,144\n",
      "     BatchNorm2d-162          [-1, 256, 48, 32]             512\n",
      "            ReLU-163          [-1, 256, 48, 32]               0\n",
      "          Conv2d-164          [-1, 256, 48, 32]         589,824\n",
      "     BatchNorm2d-165          [-1, 256, 48, 32]             512\n",
      "            ReLU-166          [-1, 256, 48, 32]               0\n",
      "          Conv2d-167         [-1, 1024, 48, 32]         262,144\n",
      "     BatchNorm2d-168         [-1, 1024, 48, 32]           2,048\n",
      "            ReLU-169         [-1, 1024, 48, 32]               0\n",
      "      Bottleneck-170         [-1, 1024, 48, 32]               0\n",
      "          Conv2d-171          [-1, 256, 48, 32]         262,144\n",
      "     BatchNorm2d-172          [-1, 256, 48, 32]             512\n",
      "            ReLU-173          [-1, 256, 48, 32]               0\n",
      "          Conv2d-174          [-1, 256, 48, 32]         589,824\n",
      "     BatchNorm2d-175          [-1, 256, 48, 32]             512\n",
      "            ReLU-176          [-1, 256, 48, 32]               0\n",
      "          Conv2d-177         [-1, 1024, 48, 32]         262,144\n",
      "     BatchNorm2d-178         [-1, 1024, 48, 32]           2,048\n",
      "            ReLU-179         [-1, 1024, 48, 32]               0\n",
      "      Bottleneck-180         [-1, 1024, 48, 32]               0\n",
      "          Conv2d-181          [-1, 256, 48, 32]         262,144\n",
      "     BatchNorm2d-182          [-1, 256, 48, 32]             512\n",
      "            ReLU-183          [-1, 256, 48, 32]               0\n",
      "          Conv2d-184          [-1, 256, 48, 32]         589,824\n",
      "     BatchNorm2d-185          [-1, 256, 48, 32]             512\n",
      "            ReLU-186          [-1, 256, 48, 32]               0\n",
      "          Conv2d-187         [-1, 1024, 48, 32]         262,144\n",
      "     BatchNorm2d-188         [-1, 1024, 48, 32]           2,048\n",
      "            ReLU-189         [-1, 1024, 48, 32]               0\n",
      "      Bottleneck-190         [-1, 1024, 48, 32]               0\n",
      "          Conv2d-191          [-1, 256, 48, 32]         262,144\n",
      "     BatchNorm2d-192          [-1, 256, 48, 32]             512\n",
      "            ReLU-193          [-1, 256, 48, 32]               0\n",
      "          Conv2d-194          [-1, 256, 48, 32]         589,824\n",
      "     BatchNorm2d-195          [-1, 256, 48, 32]             512\n",
      "            ReLU-196          [-1, 256, 48, 32]               0\n",
      "          Conv2d-197         [-1, 1024, 48, 32]         262,144\n",
      "     BatchNorm2d-198         [-1, 1024, 48, 32]           2,048\n",
      "            ReLU-199         [-1, 1024, 48, 32]               0\n",
      "      Bottleneck-200         [-1, 1024, 48, 32]               0\n",
      "          Conv2d-201          [-1, 256, 48, 32]         262,144\n",
      "     BatchNorm2d-202          [-1, 256, 48, 32]             512\n",
      "            ReLU-203          [-1, 256, 48, 32]               0\n",
      "          Conv2d-204          [-1, 256, 48, 32]         589,824\n",
      "     BatchNorm2d-205          [-1, 256, 48, 32]             512\n",
      "            ReLU-206          [-1, 256, 48, 32]               0\n",
      "          Conv2d-207         [-1, 1024, 48, 32]         262,144\n",
      "     BatchNorm2d-208         [-1, 1024, 48, 32]           2,048\n",
      "            ReLU-209         [-1, 1024, 48, 32]               0\n",
      "      Bottleneck-210         [-1, 1024, 48, 32]               0\n",
      "          Conv2d-211          [-1, 256, 48, 32]         262,144\n",
      "     BatchNorm2d-212          [-1, 256, 48, 32]             512\n",
      "            ReLU-213          [-1, 256, 48, 32]               0\n",
      "          Conv2d-214          [-1, 256, 48, 32]         589,824\n",
      "     BatchNorm2d-215          [-1, 256, 48, 32]             512\n",
      "            ReLU-216          [-1, 256, 48, 32]               0\n",
      "          Conv2d-217         [-1, 1024, 48, 32]         262,144\n",
      "     BatchNorm2d-218         [-1, 1024, 48, 32]           2,048\n",
      "            ReLU-219         [-1, 1024, 48, 32]               0\n",
      "      Bottleneck-220         [-1, 1024, 48, 32]               0\n",
      "          Conv2d-221          [-1, 256, 48, 32]         262,144\n",
      "     BatchNorm2d-222          [-1, 256, 48, 32]             512\n",
      "            ReLU-223          [-1, 256, 48, 32]               0\n",
      "          Conv2d-224          [-1, 256, 48, 32]         589,824\n",
      "     BatchNorm2d-225          [-1, 256, 48, 32]             512\n",
      "            ReLU-226          [-1, 256, 48, 32]               0\n",
      "          Conv2d-227         [-1, 1024, 48, 32]         262,144\n",
      "     BatchNorm2d-228         [-1, 1024, 48, 32]           2,048\n",
      "            ReLU-229         [-1, 1024, 48, 32]               0\n",
      "      Bottleneck-230         [-1, 1024, 48, 32]               0\n",
      "          Conv2d-231          [-1, 256, 48, 32]         262,144\n",
      "     BatchNorm2d-232          [-1, 256, 48, 32]             512\n",
      "            ReLU-233          [-1, 256, 48, 32]               0\n",
      "          Conv2d-234          [-1, 256, 48, 32]         589,824\n",
      "     BatchNorm2d-235          [-1, 256, 48, 32]             512\n",
      "            ReLU-236          [-1, 256, 48, 32]               0\n",
      "          Conv2d-237         [-1, 1024, 48, 32]         262,144\n",
      "     BatchNorm2d-238         [-1, 1024, 48, 32]           2,048\n",
      "            ReLU-239         [-1, 1024, 48, 32]               0\n",
      "      Bottleneck-240         [-1, 1024, 48, 32]               0\n",
      "          Conv2d-241          [-1, 256, 48, 32]         262,144\n",
      "     BatchNorm2d-242          [-1, 256, 48, 32]             512\n",
      "            ReLU-243          [-1, 256, 48, 32]               0\n",
      "          Conv2d-244          [-1, 256, 48, 32]         589,824\n",
      "     BatchNorm2d-245          [-1, 256, 48, 32]             512\n",
      "            ReLU-246          [-1, 256, 48, 32]               0\n",
      "          Conv2d-247         [-1, 1024, 48, 32]         262,144\n",
      "     BatchNorm2d-248         [-1, 1024, 48, 32]           2,048\n",
      "            ReLU-249         [-1, 1024, 48, 32]               0\n",
      "      Bottleneck-250         [-1, 1024, 48, 32]               0\n",
      "          Conv2d-251          [-1, 256, 48, 32]         262,144\n",
      "     BatchNorm2d-252          [-1, 256, 48, 32]             512\n",
      "            ReLU-253          [-1, 256, 48, 32]               0\n",
      "          Conv2d-254          [-1, 256, 48, 32]         589,824\n",
      "     BatchNorm2d-255          [-1, 256, 48, 32]             512\n",
      "            ReLU-256          [-1, 256, 48, 32]               0\n",
      "          Conv2d-257         [-1, 1024, 48, 32]         262,144\n",
      "     BatchNorm2d-258         [-1, 1024, 48, 32]           2,048\n",
      "            ReLU-259         [-1, 1024, 48, 32]               0\n",
      "      Bottleneck-260         [-1, 1024, 48, 32]               0\n",
      "          Conv2d-261          [-1, 256, 48, 32]         262,144\n",
      "     BatchNorm2d-262          [-1, 256, 48, 32]             512\n",
      "            ReLU-263          [-1, 256, 48, 32]               0\n",
      "          Conv2d-264          [-1, 256, 48, 32]         589,824\n",
      "     BatchNorm2d-265          [-1, 256, 48, 32]             512\n",
      "            ReLU-266          [-1, 256, 48, 32]               0\n",
      "          Conv2d-267         [-1, 1024, 48, 32]         262,144\n",
      "     BatchNorm2d-268         [-1, 1024, 48, 32]           2,048\n",
      "            ReLU-269         [-1, 1024, 48, 32]               0\n",
      "      Bottleneck-270         [-1, 1024, 48, 32]               0\n",
      "          Conv2d-271          [-1, 256, 48, 32]         262,144\n",
      "     BatchNorm2d-272          [-1, 256, 48, 32]             512\n",
      "            ReLU-273          [-1, 256, 48, 32]               0\n",
      "          Conv2d-274          [-1, 256, 48, 32]         589,824\n",
      "     BatchNorm2d-275          [-1, 256, 48, 32]             512\n",
      "            ReLU-276          [-1, 256, 48, 32]               0\n",
      "          Conv2d-277         [-1, 1024, 48, 32]         262,144\n",
      "     BatchNorm2d-278         [-1, 1024, 48, 32]           2,048\n",
      "            ReLU-279         [-1, 1024, 48, 32]               0\n",
      "      Bottleneck-280         [-1, 1024, 48, 32]               0\n",
      "          Conv2d-281          [-1, 256, 48, 32]         262,144\n",
      "     BatchNorm2d-282          [-1, 256, 48, 32]             512\n",
      "            ReLU-283          [-1, 256, 48, 32]               0\n",
      "          Conv2d-284          [-1, 256, 48, 32]         589,824\n",
      "     BatchNorm2d-285          [-1, 256, 48, 32]             512\n",
      "            ReLU-286          [-1, 256, 48, 32]               0\n",
      "          Conv2d-287         [-1, 1024, 48, 32]         262,144\n",
      "     BatchNorm2d-288         [-1, 1024, 48, 32]           2,048\n",
      "            ReLU-289         [-1, 1024, 48, 32]               0\n",
      "      Bottleneck-290         [-1, 1024, 48, 32]               0\n",
      "          Conv2d-291          [-1, 256, 48, 32]         262,144\n",
      "     BatchNorm2d-292          [-1, 256, 48, 32]             512\n",
      "            ReLU-293          [-1, 256, 48, 32]               0\n",
      "          Conv2d-294          [-1, 256, 48, 32]         589,824\n",
      "     BatchNorm2d-295          [-1, 256, 48, 32]             512\n",
      "            ReLU-296          [-1, 256, 48, 32]               0\n",
      "          Conv2d-297         [-1, 1024, 48, 32]         262,144\n",
      "     BatchNorm2d-298         [-1, 1024, 48, 32]           2,048\n",
      "            ReLU-299         [-1, 1024, 48, 32]               0\n",
      "      Bottleneck-300         [-1, 1024, 48, 32]               0\n",
      "          Conv2d-301          [-1, 256, 48, 32]         262,144\n",
      "     BatchNorm2d-302          [-1, 256, 48, 32]             512\n",
      "            ReLU-303          [-1, 256, 48, 32]               0\n",
      "          Conv2d-304          [-1, 256, 48, 32]         589,824\n",
      "     BatchNorm2d-305          [-1, 256, 48, 32]             512\n",
      "            ReLU-306          [-1, 256, 48, 32]               0\n",
      "          Conv2d-307         [-1, 1024, 48, 32]         262,144\n",
      "     BatchNorm2d-308         [-1, 1024, 48, 32]           2,048\n",
      "            ReLU-309         [-1, 1024, 48, 32]               0\n",
      "      Bottleneck-310         [-1, 1024, 48, 32]               0\n",
      "          Conv2d-311          [-1, 256, 48, 32]         262,144\n",
      "     BatchNorm2d-312          [-1, 256, 48, 32]             512\n",
      "            ReLU-313          [-1, 256, 48, 32]               0\n",
      "          Conv2d-314          [-1, 256, 48, 32]         589,824\n",
      "     BatchNorm2d-315          [-1, 256, 48, 32]             512\n",
      "            ReLU-316          [-1, 256, 48, 32]               0\n",
      "          Conv2d-317         [-1, 1024, 48, 32]         262,144\n",
      "     BatchNorm2d-318         [-1, 1024, 48, 32]           2,048\n",
      "            ReLU-319         [-1, 1024, 48, 32]               0\n",
      "      Bottleneck-320         [-1, 1024, 48, 32]               0\n",
      "          Conv2d-321          [-1, 256, 48, 32]         262,144\n",
      "     BatchNorm2d-322          [-1, 256, 48, 32]             512\n",
      "            ReLU-323          [-1, 256, 48, 32]               0\n",
      "          Conv2d-324          [-1, 256, 48, 32]         589,824\n",
      "     BatchNorm2d-325          [-1, 256, 48, 32]             512\n",
      "            ReLU-326          [-1, 256, 48, 32]               0\n",
      "          Conv2d-327         [-1, 1024, 48, 32]         262,144\n",
      "     BatchNorm2d-328         [-1, 1024, 48, 32]           2,048\n",
      "            ReLU-329         [-1, 1024, 48, 32]               0\n",
      "      Bottleneck-330         [-1, 1024, 48, 32]               0\n",
      "          Conv2d-331          [-1, 256, 48, 32]         262,144\n",
      "     BatchNorm2d-332          [-1, 256, 48, 32]             512\n",
      "            ReLU-333          [-1, 256, 48, 32]               0\n",
      "          Conv2d-334          [-1, 256, 48, 32]         589,824\n",
      "     BatchNorm2d-335          [-1, 256, 48, 32]             512\n",
      "            ReLU-336          [-1, 256, 48, 32]               0\n",
      "          Conv2d-337         [-1, 1024, 48, 32]         262,144\n",
      "     BatchNorm2d-338         [-1, 1024, 48, 32]           2,048\n",
      "            ReLU-339         [-1, 1024, 48, 32]               0\n",
      "      Bottleneck-340         [-1, 1024, 48, 32]               0\n",
      "          Conv2d-341          [-1, 256, 48, 32]         262,144\n",
      "     BatchNorm2d-342          [-1, 256, 48, 32]             512\n",
      "            ReLU-343          [-1, 256, 48, 32]               0\n",
      "          Conv2d-344          [-1, 256, 48, 32]         589,824\n",
      "     BatchNorm2d-345          [-1, 256, 48, 32]             512\n",
      "            ReLU-346          [-1, 256, 48, 32]               0\n",
      "          Conv2d-347         [-1, 1024, 48, 32]         262,144\n",
      "     BatchNorm2d-348         [-1, 1024, 48, 32]           2,048\n",
      "            ReLU-349         [-1, 1024, 48, 32]               0\n",
      "      Bottleneck-350         [-1, 1024, 48, 32]               0\n",
      "          Conv2d-351          [-1, 256, 48, 32]         262,144\n",
      "     BatchNorm2d-352          [-1, 256, 48, 32]             512\n",
      "            ReLU-353          [-1, 256, 48, 32]               0\n",
      "          Conv2d-354          [-1, 256, 48, 32]         589,824\n",
      "     BatchNorm2d-355          [-1, 256, 48, 32]             512\n",
      "            ReLU-356          [-1, 256, 48, 32]               0\n",
      "          Conv2d-357         [-1, 1024, 48, 32]         262,144\n",
      "     BatchNorm2d-358         [-1, 1024, 48, 32]           2,048\n",
      "            ReLU-359         [-1, 1024, 48, 32]               0\n",
      "      Bottleneck-360         [-1, 1024, 48, 32]               0\n",
      "          Conv2d-361          [-1, 256, 48, 32]         262,144\n",
      "     BatchNorm2d-362          [-1, 256, 48, 32]             512\n",
      "            ReLU-363          [-1, 256, 48, 32]               0\n",
      "          Conv2d-364          [-1, 256, 48, 32]         589,824\n",
      "     BatchNorm2d-365          [-1, 256, 48, 32]             512\n",
      "            ReLU-366          [-1, 256, 48, 32]               0\n",
      "          Conv2d-367         [-1, 1024, 48, 32]         262,144\n",
      "     BatchNorm2d-368         [-1, 1024, 48, 32]           2,048\n",
      "            ReLU-369         [-1, 1024, 48, 32]               0\n",
      "      Bottleneck-370         [-1, 1024, 48, 32]               0\n",
      "          Conv2d-371          [-1, 256, 48, 32]         262,144\n",
      "     BatchNorm2d-372          [-1, 256, 48, 32]             512\n",
      "            ReLU-373          [-1, 256, 48, 32]               0\n",
      "          Conv2d-374          [-1, 256, 48, 32]         589,824\n",
      "     BatchNorm2d-375          [-1, 256, 48, 32]             512\n",
      "            ReLU-376          [-1, 256, 48, 32]               0\n",
      "          Conv2d-377         [-1, 1024, 48, 32]         262,144\n",
      "     BatchNorm2d-378         [-1, 1024, 48, 32]           2,048\n",
      "            ReLU-379         [-1, 1024, 48, 32]               0\n",
      "      Bottleneck-380         [-1, 1024, 48, 32]               0\n",
      "          Conv2d-381          [-1, 256, 48, 32]         262,144\n",
      "     BatchNorm2d-382          [-1, 256, 48, 32]             512\n",
      "            ReLU-383          [-1, 256, 48, 32]               0\n",
      "          Conv2d-384          [-1, 256, 48, 32]         589,824\n",
      "     BatchNorm2d-385          [-1, 256, 48, 32]             512\n",
      "            ReLU-386          [-1, 256, 48, 32]               0\n",
      "          Conv2d-387         [-1, 1024, 48, 32]         262,144\n",
      "     BatchNorm2d-388         [-1, 1024, 48, 32]           2,048\n",
      "            ReLU-389         [-1, 1024, 48, 32]               0\n",
      "      Bottleneck-390         [-1, 1024, 48, 32]               0\n",
      "          Conv2d-391          [-1, 256, 48, 32]         262,144\n",
      "     BatchNorm2d-392          [-1, 256, 48, 32]             512\n",
      "            ReLU-393          [-1, 256, 48, 32]               0\n",
      "          Conv2d-394          [-1, 256, 48, 32]         589,824\n",
      "     BatchNorm2d-395          [-1, 256, 48, 32]             512\n",
      "            ReLU-396          [-1, 256, 48, 32]               0\n",
      "          Conv2d-397         [-1, 1024, 48, 32]         262,144\n",
      "     BatchNorm2d-398         [-1, 1024, 48, 32]           2,048\n",
      "            ReLU-399         [-1, 1024, 48, 32]               0\n",
      "      Bottleneck-400         [-1, 1024, 48, 32]               0\n",
      "          Conv2d-401          [-1, 256, 48, 32]         262,144\n",
      "     BatchNorm2d-402          [-1, 256, 48, 32]             512\n",
      "            ReLU-403          [-1, 256, 48, 32]               0\n",
      "          Conv2d-404          [-1, 256, 48, 32]         589,824\n",
      "     BatchNorm2d-405          [-1, 256, 48, 32]             512\n",
      "            ReLU-406          [-1, 256, 48, 32]               0\n",
      "          Conv2d-407         [-1, 1024, 48, 32]         262,144\n",
      "     BatchNorm2d-408         [-1, 1024, 48, 32]           2,048\n",
      "            ReLU-409         [-1, 1024, 48, 32]               0\n",
      "      Bottleneck-410         [-1, 1024, 48, 32]               0\n",
      "          Conv2d-411          [-1, 256, 48, 32]         262,144\n",
      "     BatchNorm2d-412          [-1, 256, 48, 32]             512\n",
      "            ReLU-413          [-1, 256, 48, 32]               0\n",
      "          Conv2d-414          [-1, 256, 48, 32]         589,824\n",
      "     BatchNorm2d-415          [-1, 256, 48, 32]             512\n",
      "            ReLU-416          [-1, 256, 48, 32]               0\n",
      "          Conv2d-417         [-1, 1024, 48, 32]         262,144\n",
      "     BatchNorm2d-418         [-1, 1024, 48, 32]           2,048\n",
      "            ReLU-419         [-1, 1024, 48, 32]               0\n",
      "      Bottleneck-420         [-1, 1024, 48, 32]               0\n",
      "          Conv2d-421          [-1, 256, 48, 32]         262,144\n",
      "     BatchNorm2d-422          [-1, 256, 48, 32]             512\n",
      "            ReLU-423          [-1, 256, 48, 32]               0\n",
      "          Conv2d-424          [-1, 256, 48, 32]         589,824\n",
      "     BatchNorm2d-425          [-1, 256, 48, 32]             512\n",
      "            ReLU-426          [-1, 256, 48, 32]               0\n",
      "          Conv2d-427         [-1, 1024, 48, 32]         262,144\n",
      "     BatchNorm2d-428         [-1, 1024, 48, 32]           2,048\n",
      "            ReLU-429         [-1, 1024, 48, 32]               0\n",
      "      Bottleneck-430         [-1, 1024, 48, 32]               0\n",
      "          Conv2d-431          [-1, 256, 48, 32]         262,144\n",
      "     BatchNorm2d-432          [-1, 256, 48, 32]             512\n",
      "            ReLU-433          [-1, 256, 48, 32]               0\n",
      "          Conv2d-434          [-1, 256, 48, 32]         589,824\n",
      "     BatchNorm2d-435          [-1, 256, 48, 32]             512\n",
      "            ReLU-436          [-1, 256, 48, 32]               0\n",
      "          Conv2d-437         [-1, 1024, 48, 32]         262,144\n",
      "     BatchNorm2d-438         [-1, 1024, 48, 32]           2,048\n",
      "            ReLU-439         [-1, 1024, 48, 32]               0\n",
      "      Bottleneck-440         [-1, 1024, 48, 32]               0\n",
      "          Conv2d-441          [-1, 256, 48, 32]         262,144\n",
      "     BatchNorm2d-442          [-1, 256, 48, 32]             512\n",
      "            ReLU-443          [-1, 256, 48, 32]               0\n",
      "          Conv2d-444          [-1, 256, 48, 32]         589,824\n",
      "     BatchNorm2d-445          [-1, 256, 48, 32]             512\n",
      "            ReLU-446          [-1, 256, 48, 32]               0\n",
      "          Conv2d-447         [-1, 1024, 48, 32]         262,144\n",
      "     BatchNorm2d-448         [-1, 1024, 48, 32]           2,048\n",
      "            ReLU-449         [-1, 1024, 48, 32]               0\n",
      "      Bottleneck-450         [-1, 1024, 48, 32]               0\n",
      "          Conv2d-451          [-1, 256, 48, 32]         262,144\n",
      "     BatchNorm2d-452          [-1, 256, 48, 32]             512\n",
      "            ReLU-453          [-1, 256, 48, 32]               0\n",
      "          Conv2d-454          [-1, 256, 48, 32]         589,824\n",
      "     BatchNorm2d-455          [-1, 256, 48, 32]             512\n",
      "            ReLU-456          [-1, 256, 48, 32]               0\n",
      "          Conv2d-457         [-1, 1024, 48, 32]         262,144\n",
      "     BatchNorm2d-458         [-1, 1024, 48, 32]           2,048\n",
      "            ReLU-459         [-1, 1024, 48, 32]               0\n",
      "      Bottleneck-460         [-1, 1024, 48, 32]               0\n",
      "          Conv2d-461          [-1, 256, 48, 32]         262,144\n",
      "     BatchNorm2d-462          [-1, 256, 48, 32]             512\n",
      "            ReLU-463          [-1, 256, 48, 32]               0\n",
      "          Conv2d-464          [-1, 256, 48, 32]         589,824\n",
      "     BatchNorm2d-465          [-1, 256, 48, 32]             512\n",
      "            ReLU-466          [-1, 256, 48, 32]               0\n",
      "          Conv2d-467         [-1, 1024, 48, 32]         262,144\n",
      "     BatchNorm2d-468         [-1, 1024, 48, 32]           2,048\n",
      "            ReLU-469         [-1, 1024, 48, 32]               0\n",
      "      Bottleneck-470         [-1, 1024, 48, 32]               0\n",
      "          Conv2d-471          [-1, 256, 48, 32]         262,144\n",
      "     BatchNorm2d-472          [-1, 256, 48, 32]             512\n",
      "            ReLU-473          [-1, 256, 48, 32]               0\n",
      "          Conv2d-474          [-1, 256, 48, 32]         589,824\n",
      "     BatchNorm2d-475          [-1, 256, 48, 32]             512\n",
      "            ReLU-476          [-1, 256, 48, 32]               0\n",
      "          Conv2d-477         [-1, 1024, 48, 32]         262,144\n",
      "     BatchNorm2d-478         [-1, 1024, 48, 32]           2,048\n",
      "            ReLU-479         [-1, 1024, 48, 32]               0\n",
      "      Bottleneck-480         [-1, 1024, 48, 32]               0\n",
      "          Conv2d-481          [-1, 512, 48, 32]         524,288\n",
      "     BatchNorm2d-482          [-1, 512, 48, 32]           1,024\n",
      "            ReLU-483          [-1, 512, 48, 32]               0\n",
      "          Conv2d-484          [-1, 512, 24, 16]       2,359,296\n",
      "     BatchNorm2d-485          [-1, 512, 24, 16]           1,024\n",
      "            ReLU-486          [-1, 512, 24, 16]               0\n",
      "          Conv2d-487         [-1, 2048, 24, 16]       1,048,576\n",
      "     BatchNorm2d-488         [-1, 2048, 24, 16]           4,096\n",
      "          Conv2d-489         [-1, 2048, 24, 16]       2,097,152\n",
      "     BatchNorm2d-490         [-1, 2048, 24, 16]           4,096\n",
      "            ReLU-491         [-1, 2048, 24, 16]               0\n",
      "      Bottleneck-492         [-1, 2048, 24, 16]               0\n",
      "          Conv2d-493          [-1, 512, 24, 16]       1,048,576\n",
      "     BatchNorm2d-494          [-1, 512, 24, 16]           1,024\n",
      "            ReLU-495          [-1, 512, 24, 16]               0\n",
      "          Conv2d-496          [-1, 512, 24, 16]       2,359,296\n",
      "     BatchNorm2d-497          [-1, 512, 24, 16]           1,024\n",
      "            ReLU-498          [-1, 512, 24, 16]               0\n",
      "          Conv2d-499         [-1, 2048, 24, 16]       1,048,576\n",
      "     BatchNorm2d-500         [-1, 2048, 24, 16]           4,096\n",
      "            ReLU-501         [-1, 2048, 24, 16]               0\n",
      "      Bottleneck-502         [-1, 2048, 24, 16]               0\n",
      "          Conv2d-503          [-1, 512, 24, 16]       1,048,576\n",
      "     BatchNorm2d-504          [-1, 512, 24, 16]           1,024\n",
      "            ReLU-505          [-1, 512, 24, 16]               0\n",
      "          Conv2d-506          [-1, 512, 24, 16]       2,359,296\n",
      "     BatchNorm2d-507          [-1, 512, 24, 16]           1,024\n",
      "            ReLU-508          [-1, 512, 24, 16]               0\n",
      "          Conv2d-509         [-1, 2048, 24, 16]       1,048,576\n",
      "     BatchNorm2d-510         [-1, 2048, 24, 16]           4,096\n",
      "            ReLU-511         [-1, 2048, 24, 16]               0\n",
      "      Bottleneck-512         [-1, 2048, 24, 16]               0\n",
      " ConvTranspose2d-513          [-1, 256, 48, 32]       8,388,608\n",
      "     BatchNorm2d-514          [-1, 256, 48, 32]             512\n",
      "            ReLU-515          [-1, 256, 48, 32]               0\n",
      " ConvTranspose2d-516          [-1, 256, 96, 64]       1,048,576\n",
      "     BatchNorm2d-517          [-1, 256, 96, 64]             512\n",
      "            ReLU-518          [-1, 256, 96, 64]               0\n",
      " ConvTranspose2d-519        [-1, 256, 192, 128]       1,048,576\n",
      "     BatchNorm2d-520        [-1, 256, 192, 128]             512\n",
      "            ReLU-521        [-1, 256, 192, 128]               0\n",
      "          Conv2d-522          [-1, 3, 192, 128]             771\n",
      "================================================================\n",
      "Total params: 68,631,875\n",
      "Trainable params: 68,631,875\n",
      "Non-trainable params: 0\n",
      "----------------------------------------------------------------\n",
      "Input size (MB): 4.50\n",
      "Forward/backward pass size (MB): 4943.06\n",
      "Params size (MB): 261.81\n",
      "Estimated Total Size (MB): 5209.37\n",
      "----------------------------------------------------------------\n"
     ]
    }
   ],
   "source": [
    "summary(model,(3, 768, 512))"
   ]
  },
  {
   "cell_type": "code",
   "execution_count": null,
   "metadata": {},
   "outputs": [],
   "source": []
  }
 ],
 "metadata": {
  "kernelspec": {
   "display_name": "mga-RYrVM4UM",
   "language": "python",
   "name": "python3"
  },
  "language_info": {
   "codemirror_mode": {
    "name": "ipython",
    "version": 3
   },
   "file_extension": ".py",
   "mimetype": "text/x-python",
   "name": "python",
   "nbconvert_exporter": "python",
   "pygments_lexer": "ipython3",
   "version": "3.10.9"
  },
  "orig_nbformat": 4
 },
 "nbformat": 4,
 "nbformat_minor": 2
}
