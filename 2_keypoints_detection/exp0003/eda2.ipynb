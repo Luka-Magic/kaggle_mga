{
 "cells": [
  {
   "cell_type": "code",
   "execution_count": 3,
   "metadata": {},
   "outputs": [],
   "source": [
    "import numpy as np\n",
    "import lmdb\n",
    "import numpy as np\n",
    "import torch\n",
    "import six\n",
    "from torch.utils.data import Dataset\n",
    "import json\n",
    "from PIL import Image\n",
    "\n",
    "import matplotlib.pyplot as plt\n",
    "from pathlib import Path\n",
    "import cv2\n",
    "\n",
    "import albumentations as A\n",
    "from albumentations import KeypointParams\n",
    "from albumentations.pytorch import ToTensorV2"
   ]
  },
  {
   "cell_type": "code",
   "execution_count": 9,
   "metadata": {},
   "outputs": [
    {
     "data": {
      "text/plain": [
       "PosixPath('/Users/nakagawaayato/compe/kaggle/mga')"
      ]
     },
     "execution_count": 9,
     "metadata": {},
     "output_type": "execute_result"
    }
   ],
   "source": [
    "Path().cwd().parents[2]"
   ]
  },
  {
   "cell_type": "code",
   "execution_count": 12,
   "metadata": {},
   "outputs": [],
   "source": [
    "ROOT_DIR = Path().cwd().parents[2]\n",
    "LMDB_DIR = ROOT_DIR / 'data' / 'data0004' / 'lmdb'\n",
    "\n",
    "class cfg:\n",
    "    input_size = 3\n",
    "    output_size = 1\n",
    "    img_h = 300\n",
    "    img_w = 500\n",
    "    heatmap_h = 80\n",
    "    heatmap_w = 218\n",
    "    sigma = 3"
   ]
  },
  {
   "cell_type": "code",
   "execution_count": 25,
   "metadata": {},
   "outputs": [],
   "source": [
    "# Lmdb Dataset\n",
    "class MgaLmdbDataset(Dataset):\n",
    "    def __init__(self, cfg, lmdb_dir, indices, transforms):\n",
    "        super().__init__()\n",
    "        self.cfg = cfg\n",
    "        self.transforms = transforms\n",
    "        self.indices = indices\n",
    "        self.env = lmdb.open(str(lmdb_dir), max_readers=32, readonly=True, lock=False, readahead=False, meminit=False)\n",
    "        self.output_size = cfg.output_size\n",
    "        self.sigma = cfg.sigma\n",
    "        self.img_h, self.img_w = cfg.img_h, cfg.img_w\n",
    "        self.heatmap_h, self.heatmap_w = cfg.heatmap_h, cfg.heatmap_w\n",
    "        self.chart2point_name = {\n",
    "            'scatter': 'scatter points',\n",
    "            'line': 'lines',\n",
    "            'dot': 'dot points',\n",
    "            'vertical_bar': 'bars',\n",
    "            'horizontal_bar': 'bars',\n",
    "        }\n",
    "    def _overlap_heatmap(self, heatmap, center, sigma):\n",
    "        tmp_size = sigma * 6\n",
    "        mu_x = int(center[0] + 0.5)\n",
    "        mu_y = int(center[1] + 0.5)\n",
    "        w, h = heatmap.shape[0], heatmap.shape[1]\n",
    "        ul = [int(mu_x - tmp_size), int(mu_y - tmp_size)]\n",
    "        br = [int(mu_x + tmp_size + 1), int(mu_y + tmp_size + 1)]\n",
    "        if ul[0] >= h or ul[1] >= w or br[0] < 0 or br[1] < 0:\n",
    "            return heatmap\n",
    "        size = 2 * tmp_size + 1\n",
    "        x = np.arange(0, size, 1, np.float32)\n",
    "        y = x[:, np.newaxis]\n",
    "        x0 = y0 = size // 2\n",
    "        g = np.exp(- ((x - x0) ** 2 + (y - y0) ** 2) / (2 * sigma ** 2))\n",
    "        g_x = max(0, -ul[0]), min(br[0], h) - ul[0]\n",
    "        g_y = max(0, -ul[1]), min(br[1], w) - ul[1]\n",
    "        img_x = max(0, ul[0]), min(br[0], h)\n",
    "        img_y = max(0, ul[1]), min(br[1], w)\n",
    "        heatmap[img_y[0]:img_y[1], img_x[0]:img_x[1]] = np.maximum(\n",
    "        heatmap[img_y[0]:img_y[1], img_x[0]:img_x[1]],\n",
    "        g[g_y[0]:g_y[1], g_x[0]:g_x[1]])\n",
    "        return heatmap\n",
    "\n",
    "    def _create_heatmap(self, joints):\n",
    "        '''\n",
    "            joints: [(x1, y1), (x2, y2), ...]\n",
    "            heatmap: size: (hm_h, hm_w)\n",
    "        '''\n",
    "        heatmap = np.zeros((self.heatmap_h, self.heatmap_w), dtype=np.float32)\n",
    "        for joint_id in range(len(joints)):\n",
    "            heatmap = self._overlap_heatmap(heatmap, joints[joint_id], self.sigma)\n",
    "        return heatmap\n",
    "    \n",
    "    def __len__(self):\n",
    "        return len(self.indices)\n",
    "    \n",
    "    def __getitem__(self, idx):\n",
    "        idx = self.indices[idx]\n",
    "        with self.env.begin(write=False) as txn:\n",
    "            # load image\n",
    "            img_key = f'image-{str(idx+1).zfill(8)}'.encode()\n",
    "            imgbuf = txn.get(img_key)\n",
    "\n",
    "            # load json\n",
    "            label_key = f'label-{str(idx+1).zfill(8)}'.encode()\n",
    "            label = txn.get(label_key).decode('utf-8')\n",
    "        \n",
    "        # image\n",
    "        buf = six.BytesIO()\n",
    "        buf.write(imgbuf)\n",
    "        buf.seek(0)\n",
    "        if self.cfg.input_size == 3:\n",
    "            img = np.array(Image.open(buf).convert('RGB'))\n",
    "        else:\n",
    "            img = np.array(Image.open(buf).convert('L'))\n",
    "        \n",
    "        # label\n",
    "        json_dict = json.loads(label)\n",
    "        chart_type = json_dict['chart-type']\n",
    "        point_name = self.chart2point_name[chart_type]\n",
    "        keypoints = [[dic['x'], dic['y']] for dic in json_dict['visual-elements'][point_name][0]]\n",
    "        kp_arr = np.array(keypoints)\n",
    "        kp_min = np.amin(kp_arr, 0)\n",
    "        if kp_min[0] < 0 or kp_min[1] < 0:\n",
    "            # print(keypoints)\n",
    "            print(json_dict['id'])\n",
    "\n",
    "        transformed = self.transforms(image=img, keypoints=keypoints)\n",
    "        img = transformed['image']\n",
    "        keypoints = transformed['keypoints']\n",
    "        \n",
    "        keypoints_on_hm = np.array(keypoints) * \\\n",
    "            np.array([self.heatmap_w, self.heatmap_h]) / np.array([self.img_w, self.img_h])\n",
    "\n",
    "        heatmap = self._create_heatmap(keypoints_on_hm)\n",
    "\n",
    "        img = torch.from_numpy(img).permute(2, 0, 1)\n",
    "        heatmap = torch.from_numpy(heatmap)\n",
    "\n",
    "        n_points = len(json_dict['data-series'])\n",
    "\n",
    "        return img, heatmap, n_points"
   ]
  },
  {
   "cell_type": "code",
   "execution_count": 26,
   "metadata": {},
   "outputs": [],
   "source": [
    "def get_transforms():\n",
    "    return A.Compose([\n",
    "        A.Resize(300, 500),\n",
    "        A.Normalize([0.485, 0.456, 0.406], [0.229, 0.224, 0.225]),\n",
    "        ToTensorV2()\n",
    "    ])"
   ]
  },
  {
   "cell_type": "code",
   "execution_count": 27,
   "metadata": {},
   "outputs": [],
   "source": [
    "ds = MgaLmdbDataset(cfg, LMDB_DIR, [0, 1, 2, 3, 4], get_transforms())"
   ]
  },
  {
   "cell_type": "code",
   "execution_count": 28,
   "metadata": {},
   "outputs": [
    {
     "ename": "ValueError",
     "evalue": "not enough values to unpack (expected 4, got 2)",
     "output_type": "error",
     "traceback": [
      "\u001b[0;31m---------------------------------------------------------------------------\u001b[0m",
      "\u001b[0;31mValueError\u001b[0m                                Traceback (most recent call last)",
      "Cell \u001b[0;32mIn[28], line 1\u001b[0m\n\u001b[0;32m----> 1\u001b[0m ds\u001b[39m.\u001b[39;49m\u001b[39m__getitem__\u001b[39;49m(\u001b[39m0\u001b[39;49m)\n",
      "Cell \u001b[0;32mIn[25], line 87\u001b[0m, in \u001b[0;36mMgaLmdbDataset.__getitem__\u001b[0;34m(self, idx)\u001b[0m\n\u001b[1;32m     83\u001b[0m \u001b[39mif\u001b[39;00m kp_min[\u001b[39m0\u001b[39m] \u001b[39m<\u001b[39m \u001b[39m0\u001b[39m \u001b[39mor\u001b[39;00m kp_min[\u001b[39m1\u001b[39m] \u001b[39m<\u001b[39m \u001b[39m0\u001b[39m:\n\u001b[1;32m     84\u001b[0m     \u001b[39m# print(keypoints)\u001b[39;00m\n\u001b[1;32m     85\u001b[0m     \u001b[39mprint\u001b[39m(json_dict[\u001b[39m'\u001b[39m\u001b[39mid\u001b[39m\u001b[39m'\u001b[39m])\n\u001b[0;32m---> 87\u001b[0m transformed \u001b[39m=\u001b[39m \u001b[39mself\u001b[39;49m\u001b[39m.\u001b[39;49mtransforms(image\u001b[39m=\u001b[39;49mimg, keypoints\u001b[39m=\u001b[39;49mkeypoints)\n\u001b[1;32m     88\u001b[0m img \u001b[39m=\u001b[39m transformed[\u001b[39m'\u001b[39m\u001b[39mimage\u001b[39m\u001b[39m'\u001b[39m]\n\u001b[1;32m     89\u001b[0m keypoints \u001b[39m=\u001b[39m transformed[\u001b[39m'\u001b[39m\u001b[39mkeypoints\u001b[39m\u001b[39m'\u001b[39m]\n",
      "File \u001b[0;32m~/.local/share/virtualenvs/mga-RYrVM4UM/lib/python3.10/site-packages/albumentations/core/composition.py:205\u001b[0m, in \u001b[0;36mCompose.__call__\u001b[0;34m(self, force_apply, *args, **data)\u001b[0m\n\u001b[1;32m    202\u001b[0m     p\u001b[39m.\u001b[39mpreprocess(data)\n\u001b[1;32m    204\u001b[0m \u001b[39mfor\u001b[39;00m idx, t \u001b[39min\u001b[39;00m \u001b[39menumerate\u001b[39m(transforms):\n\u001b[0;32m--> 205\u001b[0m     data \u001b[39m=\u001b[39m t(\u001b[39m*\u001b[39;49m\u001b[39m*\u001b[39;49mdata)\n\u001b[1;32m    207\u001b[0m     \u001b[39mif\u001b[39;00m check_each_transform:\n\u001b[1;32m    208\u001b[0m         data \u001b[39m=\u001b[39m \u001b[39mself\u001b[39m\u001b[39m.\u001b[39m_check_data_post_transform(data)\n",
      "File \u001b[0;32m~/.local/share/virtualenvs/mga-RYrVM4UM/lib/python3.10/site-packages/albumentations/core/transforms_interface.py:118\u001b[0m, in \u001b[0;36mBasicTransform.__call__\u001b[0;34m(self, force_apply, *args, **kwargs)\u001b[0m\n\u001b[1;32m    113\u001b[0m             warn(\n\u001b[1;32m    114\u001b[0m                 \u001b[39mself\u001b[39m\u001b[39m.\u001b[39mget_class_fullname() \u001b[39m+\u001b[39m \u001b[39m\"\u001b[39m\u001b[39m could work incorrectly in ReplayMode for other input data\u001b[39m\u001b[39m\"\u001b[39m\n\u001b[1;32m    115\u001b[0m                 \u001b[39m\"\u001b[39m\u001b[39m because its\u001b[39m\u001b[39m'\u001b[39m\u001b[39m params depend on targets.\u001b[39m\u001b[39m\"\u001b[39m\n\u001b[1;32m    116\u001b[0m             )\n\u001b[1;32m    117\u001b[0m         kwargs[\u001b[39mself\u001b[39m\u001b[39m.\u001b[39msave_key][\u001b[39mid\u001b[39m(\u001b[39mself\u001b[39m)] \u001b[39m=\u001b[39m deepcopy(params)\n\u001b[0;32m--> 118\u001b[0m     \u001b[39mreturn\u001b[39;00m \u001b[39mself\u001b[39;49m\u001b[39m.\u001b[39;49mapply_with_params(params, \u001b[39m*\u001b[39;49m\u001b[39m*\u001b[39;49mkwargs)\n\u001b[1;32m    120\u001b[0m \u001b[39mreturn\u001b[39;00m kwargs\n",
      "File \u001b[0;32m~/.local/share/virtualenvs/mga-RYrVM4UM/lib/python3.10/site-packages/albumentations/core/transforms_interface.py:131\u001b[0m, in \u001b[0;36mBasicTransform.apply_with_params\u001b[0;34m(self, params, **kwargs)\u001b[0m\n\u001b[1;32m    129\u001b[0m     target_function \u001b[39m=\u001b[39m \u001b[39mself\u001b[39m\u001b[39m.\u001b[39m_get_target_function(key)\n\u001b[1;32m    130\u001b[0m     target_dependencies \u001b[39m=\u001b[39m {k: kwargs[k] \u001b[39mfor\u001b[39;00m k \u001b[39min\u001b[39;00m \u001b[39mself\u001b[39m\u001b[39m.\u001b[39mtarget_dependence\u001b[39m.\u001b[39mget(key, [])}\n\u001b[0;32m--> 131\u001b[0m     res[key] \u001b[39m=\u001b[39m target_function(arg, \u001b[39m*\u001b[39;49m\u001b[39m*\u001b[39;49m\u001b[39mdict\u001b[39;49m(params, \u001b[39m*\u001b[39;49m\u001b[39m*\u001b[39;49mtarget_dependencies))\n\u001b[1;32m    132\u001b[0m \u001b[39melse\u001b[39;00m:\n\u001b[1;32m    133\u001b[0m     res[key] \u001b[39m=\u001b[39m \u001b[39mNone\u001b[39;00m\n",
      "File \u001b[0;32m~/.local/share/virtualenvs/mga-RYrVM4UM/lib/python3.10/site-packages/albumentations/core/transforms_interface.py:257\u001b[0m, in \u001b[0;36mDualTransform.apply_to_keypoints\u001b[0;34m(self, keypoints, **params)\u001b[0m\n\u001b[1;32m    256\u001b[0m \u001b[39mdef\u001b[39;00m \u001b[39mapply_to_keypoints\u001b[39m(\u001b[39mself\u001b[39m, keypoints: Sequence[KeypointType], \u001b[39m*\u001b[39m\u001b[39m*\u001b[39mparams) \u001b[39m-\u001b[39m\u001b[39m>\u001b[39m List[KeypointType]:\n\u001b[0;32m--> 257\u001b[0m     \u001b[39mreturn\u001b[39;00m [  \u001b[39m# type: ignore\u001b[39;00m\n\u001b[1;32m    258\u001b[0m         \u001b[39mself\u001b[39m\u001b[39m.\u001b[39mapply_to_keypoint(\u001b[39mtuple\u001b[39m(keypoint[:\u001b[39m4\u001b[39m]), \u001b[39m*\u001b[39m\u001b[39m*\u001b[39mparams) \u001b[39m+\u001b[39m \u001b[39mtuple\u001b[39m(keypoint[\u001b[39m4\u001b[39m:])  \u001b[39m# type: ignore\u001b[39;00m\n\u001b[1;32m    259\u001b[0m         \u001b[39mfor\u001b[39;00m keypoint \u001b[39min\u001b[39;00m keypoints\n\u001b[1;32m    260\u001b[0m     ]\n",
      "File \u001b[0;32m~/.local/share/virtualenvs/mga-RYrVM4UM/lib/python3.10/site-packages/albumentations/core/transforms_interface.py:258\u001b[0m, in \u001b[0;36m<listcomp>\u001b[0;34m(.0)\u001b[0m\n\u001b[1;32m    256\u001b[0m \u001b[39mdef\u001b[39;00m \u001b[39mapply_to_keypoints\u001b[39m(\u001b[39mself\u001b[39m, keypoints: Sequence[KeypointType], \u001b[39m*\u001b[39m\u001b[39m*\u001b[39mparams) \u001b[39m-\u001b[39m\u001b[39m>\u001b[39m List[KeypointType]:\n\u001b[1;32m    257\u001b[0m     \u001b[39mreturn\u001b[39;00m [  \u001b[39m# type: ignore\u001b[39;00m\n\u001b[0;32m--> 258\u001b[0m         \u001b[39mself\u001b[39;49m\u001b[39m.\u001b[39;49mapply_to_keypoint(\u001b[39mtuple\u001b[39;49m(keypoint[:\u001b[39m4\u001b[39;49m]), \u001b[39m*\u001b[39;49m\u001b[39m*\u001b[39;49mparams) \u001b[39m+\u001b[39m \u001b[39mtuple\u001b[39m(keypoint[\u001b[39m4\u001b[39m:])  \u001b[39m# type: ignore\u001b[39;00m\n\u001b[1;32m    259\u001b[0m         \u001b[39mfor\u001b[39;00m keypoint \u001b[39min\u001b[39;00m keypoints\n\u001b[1;32m    260\u001b[0m     ]\n",
      "File \u001b[0;32m~/.local/share/virtualenvs/mga-RYrVM4UM/lib/python3.10/site-packages/albumentations/augmentations/geometric/resize.py:195\u001b[0m, in \u001b[0;36mResize.apply_to_keypoint\u001b[0;34m(self, keypoint, **params)\u001b[0m\n\u001b[1;32m    193\u001b[0m scale_x \u001b[39m=\u001b[39m \u001b[39mself\u001b[39m\u001b[39m.\u001b[39mwidth \u001b[39m/\u001b[39m width\n\u001b[1;32m    194\u001b[0m scale_y \u001b[39m=\u001b[39m \u001b[39mself\u001b[39m\u001b[39m.\u001b[39mheight \u001b[39m/\u001b[39m height\n\u001b[0;32m--> 195\u001b[0m \u001b[39mreturn\u001b[39;00m F\u001b[39m.\u001b[39;49mkeypoint_scale(keypoint, scale_x, scale_y)\n",
      "File \u001b[0;32m~/.local/share/virtualenvs/mga-RYrVM4UM/lib/python3.10/site-packages/albumentations/augmentations/geometric/functional.py:414\u001b[0m, in \u001b[0;36mkeypoint_scale\u001b[0;34m(keypoint, scale_x, scale_y)\u001b[0m\n\u001b[1;32m    402\u001b[0m \u001b[39mdef\u001b[39;00m \u001b[39mkeypoint_scale\u001b[39m(keypoint: KeypointInternalType, scale_x: \u001b[39mfloat\u001b[39m, scale_y: \u001b[39mfloat\u001b[39m) \u001b[39m-\u001b[39m\u001b[39m>\u001b[39m KeypointInternalType:\n\u001b[1;32m    403\u001b[0m \u001b[39m    \u001b[39m\u001b[39m\"\"\"Scales a keypoint by scale_x and scale_y.\u001b[39;00m\n\u001b[1;32m    404\u001b[0m \n\u001b[1;32m    405\u001b[0m \u001b[39m    Args:\u001b[39;00m\n\u001b[0;32m   (...)\u001b[0m\n\u001b[1;32m    412\u001b[0m \n\u001b[1;32m    413\u001b[0m \u001b[39m    \"\"\"\u001b[39;00m\n\u001b[0;32m--> 414\u001b[0m     x, y, angle, scale \u001b[39m=\u001b[39m keypoint[:\u001b[39m4\u001b[39m]\n\u001b[1;32m    415\u001b[0m     \u001b[39mreturn\u001b[39;00m x \u001b[39m*\u001b[39m scale_x, y \u001b[39m*\u001b[39m scale_y, angle, scale \u001b[39m*\u001b[39m \u001b[39mmax\u001b[39m(scale_x, scale_y)\n",
      "\u001b[0;31mValueError\u001b[0m: not enough values to unpack (expected 4, got 2)"
     ]
    }
   ],
   "source": [
    "ds.__getitem__(0)"
   ]
  },
  {
   "cell_type": "code",
   "execution_count": 15,
   "metadata": {},
   "outputs": [],
   "source": [
    "env = lmdb.open(str(LMDB_DIR), max_readers=32, readonly=True, lock=False, readahead=False, meminit=False)\n",
    "with env.begin(write=False) as txn:\n",
    "    # load json\n",
    "    label_key = f'label-{str(1).zfill(8)}'.encode()\n",
    "    label = txn.get(label_key).decode('utf-8')\n",
    "json_dict = json.loads(label)"
   ]
  },
  {
   "cell_type": "code",
   "execution_count": 24,
   "metadata": {},
   "outputs": [
    {
     "data": {
      "text/plain": [
       "[{'x': 94.86666666666667, 'y': 209.98333333333335},\n",
       " {'x': 111.66666666666667, 'y': 194.78333333333336},\n",
       " {'x': 128.06666666666666, 'y': 187.98333333333335},\n",
       " {'x': 144.86666666666667, 'y': 182.38333333333335},\n",
       " {'x': 160.86666666666667, 'y': 203.18333333333334},\n",
       " {'x': 177.26666666666665, 'y': 179.58333333333334},\n",
       " {'x': 193.66666666666669, 'y': 130.78333333333336},\n",
       " {'x': 210.06666666666666, 'y': 142.38333333333335},\n",
       " {'x': 226.4666666666667, 'y': 199.98333333333335},\n",
       " {'x': 242.86666666666667, 'y': 141.18333333333334},\n",
       " {'x': 259.6666666666667, 'y': 166.38333333333335},\n",
       " {'x': 276.06666666666666, 'y': 78.78333333333336},\n",
       " {'x': 292.4666666666667, 'y': 139.58333333333334},\n",
       " {'x': 308.4666666666667, 'y': 196.38333333333335},\n",
       " {'x': 324.4666666666667, 'y': 139.58333333333334},\n",
       " {'x': 341.2666666666667, 'y': 200.78333333333336},\n",
       " {'x': 358.4666666666667, 'y': 159.58333333333334},\n",
       " {'x': 374.06666666666666, 'y': 188.38333333333335},\n",
       " {'x': 390.8666666666667, 'y': 202.38333333333335},\n",
       " {'x': 407.2666666666667, 'y': 193.18333333333334},\n",
       " {'x': 423.2666666666667, 'y': 133.58333333333334},\n",
       " {'x': 440.06666666666666, 'y': 200.38333333333335},\n",
       " {'x': 456.06666666666666, 'y': 189.98333333333335},\n",
       " {'x': 472.8666666666667, 'y': 179.18333333333334}]"
      ]
     },
     "execution_count": 24,
     "metadata": {},
     "output_type": "execute_result"
    }
   ],
   "source": [
    "json_dict['visual-elements']['scatter points'][0]"
   ]
  },
  {
   "cell_type": "code",
   "execution_count": null,
   "metadata": {},
   "outputs": [],
   "source": []
  }
 ],
 "metadata": {
  "kernelspec": {
   "display_name": "mga-RYrVM4UM",
   "language": "python",
   "name": "python3"
  },
  "language_info": {
   "codemirror_mode": {
    "name": "ipython",
    "version": 3
   },
   "file_extension": ".py",
   "mimetype": "text/x-python",
   "name": "python",
   "nbconvert_exporter": "python",
   "pygments_lexer": "ipython3",
   "version": "3.10.9"
  },
  "orig_nbformat": 4
 },
 "nbformat": 4,
 "nbformat_minor": 2
}
